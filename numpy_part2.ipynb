{
 "cells": [
  {
   "cell_type": "code",
   "execution_count": 1,
   "id": "ffb1abff-dda9-454e-8d78-1e8c14cb6c9d",
   "metadata": {},
   "outputs": [],
   "source": [
    "#Array Manipulation"
   ]
  },
  {
   "cell_type": "code",
   "execution_count": 2,
   "id": "5c12f79c-f258-432d-9fb8-3b0c24284f5c",
   "metadata": {},
   "outputs": [],
   "source": [
    "import numpy as np"
   ]
  },
  {
   "cell_type": "code",
   "execution_count": 3,
   "id": "5c30a0e5-78cc-4d96-bbe2-bd9a0d125252",
   "metadata": {},
   "outputs": [],
   "source": [
    "arr=np.random.randint(1,10,(3,4))"
   ]
  },
  {
   "cell_type": "code",
   "execution_count": 4,
   "id": "722371c6-f062-4a23-b144-9be2d7628a0e",
   "metadata": {},
   "outputs": [
    {
     "data": {
      "text/plain": [
       "array([[8, 4, 6, 3],\n",
       "       [3, 7, 5, 1],\n",
       "       [4, 8, 9, 3]])"
      ]
     },
     "execution_count": 4,
     "metadata": {},
     "output_type": "execute_result"
    }
   ],
   "source": [
    "arr"
   ]
  },
  {
   "cell_type": "code",
   "execution_count": 5,
   "id": "01ba2edd-f1fa-4907-abd6-49c355c39785",
   "metadata": {},
   "outputs": [
    {
     "data": {
      "text/plain": [
       "array([[8, 4],\n",
       "       [6, 3],\n",
       "       [3, 7],\n",
       "       [5, 1],\n",
       "       [4, 8],\n",
       "       [9, 3]])"
      ]
     },
     "execution_count": 5,
     "metadata": {},
     "output_type": "execute_result"
    }
   ],
   "source": [
    "arr.reshape(6,2)"
   ]
  },
  {
   "cell_type": "code",
   "execution_count": 7,
   "id": "6923f826-d811-49f7-9bd6-0d1064ad100c",
   "metadata": {},
   "outputs": [
    {
     "data": {
      "text/plain": [
       "array([[8, 3, 4],\n",
       "       [4, 7, 8],\n",
       "       [6, 5, 9],\n",
       "       [3, 1, 3]])"
      ]
     },
     "execution_count": 7,
     "metadata": {},
     "output_type": "execute_result"
    }
   ],
   "source": [
    "arr.T"
   ]
  },
  {
   "cell_type": "code",
   "execution_count": 8,
   "id": "59737bbd-eb27-4926-a8db-db599a06a4ab",
   "metadata": {},
   "outputs": [
    {
     "data": {
      "text/plain": [
       "array([8, 4, 6, 3, 3, 7, 5, 1, 4, 8, 9, 3])"
      ]
     },
     "execution_count": 8,
     "metadata": {},
     "output_type": "execute_result"
    }
   ],
   "source": [
    "arr.flatten()"
   ]
  },
  {
   "cell_type": "code",
   "execution_count": 9,
   "id": "c0a7a662-2206-4ff1-b804-f1a7a88b5dcc",
   "metadata": {},
   "outputs": [],
   "source": [
    "arr1=np.array([1,2,3,4])"
   ]
  },
  {
   "cell_type": "code",
   "execution_count": 10,
   "id": "615456b2-defd-4cc9-b446-79fcdf709c12",
   "metadata": {},
   "outputs": [
    {
     "data": {
      "text/plain": [
       "1"
      ]
     },
     "execution_count": 10,
     "metadata": {},
     "output_type": "execute_result"
    }
   ],
   "source": [
    "arr1.ndim"
   ]
  },
  {
   "cell_type": "code",
   "execution_count": 11,
   "id": "f2089390-7d98-452b-9b38-e80188d6df79",
   "metadata": {},
   "outputs": [
    {
     "data": {
      "text/plain": [
       "array([[1],\n",
       "       [2],\n",
       "       [3],\n",
       "       [4]])"
      ]
     },
     "execution_count": 11,
     "metadata": {},
     "output_type": "execute_result"
    }
   ],
   "source": [
    "np.expand_dims(arr1,axis=1)"
   ]
  },
  {
   "cell_type": "code",
   "execution_count": 12,
   "id": "fabfded9-0200-45eb-a9cc-47c3498ac0ba",
   "metadata": {},
   "outputs": [
    {
     "data": {
      "text/plain": [
       "array([[1, 2, 3, 4]])"
      ]
     },
     "execution_count": 12,
     "metadata": {},
     "output_type": "execute_result"
    }
   ],
   "source": [
    "np.expand_dims(arr1,axis=0)"
   ]
  },
  {
   "cell_type": "code",
   "execution_count": 13,
   "id": "0346ab48-b262-489d-8a1e-4c5ac2df3667",
   "metadata": {},
   "outputs": [
    {
     "data": {
      "text/plain": [
       "array([[8, 4, 6, 3],\n",
       "       [3, 7, 5, 1],\n",
       "       [4, 8, 9, 3]])"
      ]
     },
     "execution_count": 13,
     "metadata": {},
     "output_type": "execute_result"
    }
   ],
   "source": [
    "arr"
   ]
  },
  {
   "cell_type": "code",
   "execution_count": 14,
   "id": "0cb98113-3008-4a3b-b47b-36c2763ae11c",
   "metadata": {},
   "outputs": [
    {
     "data": {
      "text/plain": [
       "array([[8, 4, 6, 3],\n",
       "       [3, 7, 5, 1],\n",
       "       [4, 8, 9, 3]])"
      ]
     },
     "execution_count": 14,
     "metadata": {},
     "output_type": "execute_result"
    }
   ],
   "source": [
    "np.squeeze(arr)"
   ]
  },
  {
   "cell_type": "code",
   "execution_count": 15,
   "id": "dfa1ac9b-1c56-48d7-a2c1-c2d5430aca43",
   "metadata": {},
   "outputs": [],
   "source": [
    "data=np.array([[1],[2],[3]])"
   ]
  },
  {
   "cell_type": "code",
   "execution_count": 16,
   "id": "b116eead-c227-4807-b32d-c2383853d39a",
   "metadata": {},
   "outputs": [
    {
     "data": {
      "text/plain": [
       "array([[1],\n",
       "       [2],\n",
       "       [3]])"
      ]
     },
     "execution_count": 16,
     "metadata": {},
     "output_type": "execute_result"
    }
   ],
   "source": [
    "data"
   ]
  },
  {
   "cell_type": "code",
   "execution_count": 17,
   "id": "bd8e1175-ad83-4eaa-b4b7-aa24a8ba6d61",
   "metadata": {},
   "outputs": [
    {
     "data": {
      "text/plain": [
       "array([1, 2, 3])"
      ]
     },
     "execution_count": 17,
     "metadata": {},
     "output_type": "execute_result"
    }
   ],
   "source": [
    "np.squeeze(data)"
   ]
  },
  {
   "cell_type": "code",
   "execution_count": 18,
   "id": "e855e0f2-9184-42f4-b37a-9d39ce142b82",
   "metadata": {},
   "outputs": [
    {
     "data": {
      "text/plain": [
       "array([1, 2, 3, 4])"
      ]
     },
     "execution_count": 18,
     "metadata": {},
     "output_type": "execute_result"
    }
   ],
   "source": [
    "arr1"
   ]
  },
  {
   "cell_type": "code",
   "execution_count": 19,
   "id": "0b2915f8-648e-4c5c-8a13-b897f14ef91a",
   "metadata": {},
   "outputs": [
    {
     "data": {
      "text/plain": [
       "array([1, 1, 1, 2, 2, 2, 3, 3, 3, 4, 4, 4])"
      ]
     },
     "execution_count": 19,
     "metadata": {},
     "output_type": "execute_result"
    }
   ],
   "source": [
    "np.repeat(arr1,3)"
   ]
  },
  {
   "cell_type": "code",
   "execution_count": 21,
   "id": "997ffb65-9980-4da4-9271-7baca68ecd25",
   "metadata": {},
   "outputs": [
    {
     "data": {
      "text/plain": [
       "array([3, 4, 1, 2])"
      ]
     },
     "execution_count": 21,
     "metadata": {},
     "output_type": "execute_result"
    }
   ],
   "source": [
    "np.roll(arr1,2)"
   ]
  },
  {
   "cell_type": "code",
   "execution_count": 22,
   "id": "d4dd254a-af8f-4a01-8abe-f08c64c445ed",
   "metadata": {},
   "outputs": [
    {
     "data": {
      "text/plain": [
       "array([1, 2, 3, 4])"
      ]
     },
     "execution_count": 22,
     "metadata": {},
     "output_type": "execute_result"
    }
   ],
   "source": [
    "arr1"
   ]
  },
  {
   "cell_type": "code",
   "execution_count": 23,
   "id": "13781dea-9aa6-4120-868f-27fe4c788856",
   "metadata": {},
   "outputs": [
    {
     "data": {
      "text/plain": [
       "array([2, 3, 4, 1])"
      ]
     },
     "execution_count": 23,
     "metadata": {},
     "output_type": "execute_result"
    }
   ],
   "source": [
    "np.roll(arr1,3)"
   ]
  },
  {
   "cell_type": "code",
   "execution_count": 24,
   "id": "831db5b5-7848-481f-9692-3efa31b73e26",
   "metadata": {},
   "outputs": [
    {
     "data": {
      "text/plain": [
       "array([[1, 0, 0, 0],\n",
       "       [0, 2, 0, 0],\n",
       "       [0, 0, 3, 0],\n",
       "       [0, 0, 0, 4]])"
      ]
     },
     "execution_count": 24,
     "metadata": {},
     "output_type": "execute_result"
    }
   ],
   "source": [
    "np.diag(arr1)"
   ]
  },
  {
   "cell_type": "code",
   "execution_count": 25,
   "id": "b420f704-303d-4dd1-8392-3676432ed1f2",
   "metadata": {},
   "outputs": [],
   "source": [
    "#Binary Operations"
   ]
  },
  {
   "cell_type": "code",
   "execution_count": 26,
   "id": "23f707f7-3cbf-4129-b7f0-f4700bf1000d",
   "metadata": {},
   "outputs": [],
   "source": [
    "arr1=np.random.randint(1,10,(3,4))"
   ]
  },
  {
   "cell_type": "code",
   "execution_count": 29,
   "id": "745e779b-93f7-43ef-8002-cb1dc73f01a2",
   "metadata": {},
   "outputs": [],
   "source": [
    "arr2=np.random.randint(1,10,(3,4))"
   ]
  },
  {
   "cell_type": "code",
   "execution_count": 30,
   "id": "552e04a4-5dde-4985-844c-a548fcddb455",
   "metadata": {},
   "outputs": [
    {
     "data": {
      "text/plain": [
       "array([[2, 8, 4, 3],\n",
       "       [6, 2, 6, 2],\n",
       "       [8, 9, 9, 3]])"
      ]
     },
     "execution_count": 30,
     "metadata": {},
     "output_type": "execute_result"
    }
   ],
   "source": [
    "arr1"
   ]
  },
  {
   "cell_type": "code",
   "execution_count": 31,
   "id": "be3f0195-487a-40a4-bdf0-023be71e4f4d",
   "metadata": {},
   "outputs": [
    {
     "data": {
      "text/plain": [
       "array([[7, 9, 7, 5],\n",
       "       [7, 8, 6, 6],\n",
       "       [2, 2, 6, 2]])"
      ]
     },
     "execution_count": 31,
     "metadata": {},
     "output_type": "execute_result"
    }
   ],
   "source": [
    "arr2"
   ]
  },
  {
   "cell_type": "code",
   "execution_count": 32,
   "id": "01da9899-28c6-40a3-bbf8-f0891f5d5813",
   "metadata": {},
   "outputs": [
    {
     "data": {
      "text/plain": [
       "array([[ 9, 17, 11,  8],\n",
       "       [13, 10, 12,  8],\n",
       "       [10, 11, 15,  5]])"
      ]
     },
     "execution_count": 32,
     "metadata": {},
     "output_type": "execute_result"
    }
   ],
   "source": [
    "arr1+arr2"
   ]
  },
  {
   "cell_type": "code",
   "execution_count": 33,
   "id": "89315b6a-41c2-40d9-9b2e-6844ddbf0959",
   "metadata": {},
   "outputs": [
    {
     "data": {
      "text/plain": [
       "array([[-5, -1, -3, -2],\n",
       "       [-1, -6,  0, -4],\n",
       "       [ 6,  7,  3,  1]])"
      ]
     },
     "execution_count": 33,
     "metadata": {},
     "output_type": "execute_result"
    }
   ],
   "source": [
    "arr1-arr2"
   ]
  },
  {
   "cell_type": "code",
   "execution_count": 34,
   "id": "4ca16d7c-49a8-4f14-ab0e-91ca02db523b",
   "metadata": {},
   "outputs": [
    {
     "data": {
      "text/plain": [
       "array([[0.28571429, 0.88888889, 0.57142857, 0.6       ],\n",
       "       [0.85714286, 0.25      , 1.        , 0.33333333],\n",
       "       [4.        , 4.5       , 1.5       , 1.5       ]])"
      ]
     },
     "execution_count": 34,
     "metadata": {},
     "output_type": "execute_result"
    }
   ],
   "source": [
    "arr1/arr2"
   ]
  },
  {
   "cell_type": "code",
   "execution_count": 35,
   "id": "2d8f838a-13e5-4dcd-a7f8-0e1de858ee0c",
   "metadata": {},
   "outputs": [
    {
     "data": {
      "text/plain": [
       "array([[2, 8, 4, 3],\n",
       "       [6, 2, 0, 2],\n",
       "       [0, 1, 3, 1]])"
      ]
     },
     "execution_count": 35,
     "metadata": {},
     "output_type": "execute_result"
    }
   ],
   "source": [
    "arr1%arr2"
   ]
  },
  {
   "cell_type": "code",
   "execution_count": 36,
   "id": "e7346157-c360-4404-ad1f-10a644e3198f",
   "metadata": {},
   "outputs": [
    {
     "data": {
      "text/plain": [
       "array([[      128, 134217728,     16384,       243],\n",
       "       [   279936,       256,     46656,        64],\n",
       "       [       64,        81,    531441,         9]])"
      ]
     },
     "execution_count": 36,
     "metadata": {},
     "output_type": "execute_result"
    }
   ],
   "source": [
    "arr1**arr2"
   ]
  },
  {
   "cell_type": "code",
   "execution_count": 37,
   "id": "043f8d7a-c84d-48ee-b5ef-06cc50ac1826",
   "metadata": {},
   "outputs": [
    {
     "data": {
      "text/plain": [
       "array([[2, 8, 4, 1],\n",
       "       [6, 0, 6, 2],\n",
       "       [0, 0, 0, 2]])"
      ]
     },
     "execution_count": 37,
     "metadata": {},
     "output_type": "execute_result"
    }
   ],
   "source": [
    "arr1&arr2"
   ]
  },
  {
   "cell_type": "code",
   "execution_count": 39,
   "id": "705b61e7-aa42-4f1b-ad93-029ccac5a675",
   "metadata": {},
   "outputs": [
    {
     "data": {
      "text/plain": [
       "array([[ 7,  9,  7,  7],\n",
       "       [ 7, 10,  6,  6],\n",
       "       [10, 11, 15,  3]])"
      ]
     },
     "execution_count": 39,
     "metadata": {},
     "output_type": "execute_result"
    }
   ],
   "source": [
    "arr1|arr2"
   ]
  },
  {
   "cell_type": "code",
   "execution_count": 40,
   "id": "f8438ba7-a6df-4ca6-a7db-de17129bb6dc",
   "metadata": {},
   "outputs": [
    {
     "data": {
      "text/plain": [
       "array([[False, False, False, False],\n",
       "       [False, False, False, False],\n",
       "       [ True,  True,  True,  True]])"
      ]
     },
     "execution_count": 40,
     "metadata": {},
     "output_type": "execute_result"
    }
   ],
   "source": [
    "arr1>arr2"
   ]
  },
  {
   "cell_type": "code",
   "execution_count": 41,
   "id": "b373f3bc-2699-438b-93e8-dd442007821b",
   "metadata": {},
   "outputs": [],
   "source": [
    "#String function"
   ]
  },
  {
   "cell_type": "code",
   "execution_count": 42,
   "id": "6e758770-ba91-46bc-8de0-ca4a1d577a96",
   "metadata": {},
   "outputs": [],
   "source": [
    "arr=np.array(['mahesh','yadav'])"
   ]
  },
  {
   "cell_type": "code",
   "execution_count": 43,
   "id": "ffa9c060-448d-4386-8aff-dff611aa21f7",
   "metadata": {},
   "outputs": [
    {
     "data": {
      "text/plain": [
       "array(['mahesh', 'yadav'], dtype='<U6')"
      ]
     },
     "execution_count": 43,
     "metadata": {},
     "output_type": "execute_result"
    }
   ],
   "source": [
    "arr\n"
   ]
  },
  {
   "cell_type": "code",
   "execution_count": 44,
   "id": "ec31520b-6419-4079-bf0b-d1f086d111b8",
   "metadata": {},
   "outputs": [
    {
     "data": {
      "text/plain": [
       "array(['MAHESH', 'YADAV'], dtype='<U6')"
      ]
     },
     "execution_count": 44,
     "metadata": {},
     "output_type": "execute_result"
    }
   ],
   "source": [
    "np.char.upper(arr)"
   ]
  },
  {
   "cell_type": "code",
   "execution_count": 45,
   "id": "a9eeecd9-9fd2-4869-8194-97061af882ad",
   "metadata": {},
   "outputs": [
    {
     "data": {
      "text/plain": [
       "array(['Mahesh', 'Yadav'], dtype='<U6')"
      ]
     },
     "execution_count": 45,
     "metadata": {},
     "output_type": "execute_result"
    }
   ],
   "source": [
    "np.char.title(arr)"
   ]
  },
  {
   "cell_type": "code",
   "execution_count": 46,
   "id": "136501c8-ae83-4c27-aff6-6f50d96e0288",
   "metadata": {},
   "outputs": [
    {
     "data": {
      "text/plain": [
       "array(['Mahesh', 'Yadav'], dtype='<U6')"
      ]
     },
     "execution_count": 46,
     "metadata": {},
     "output_type": "execute_result"
    }
   ],
   "source": [
    "np.char.capitalize(arr)"
   ]
  },
  {
   "cell_type": "code",
   "execution_count": 49,
   "id": "79d2319d-f2cd-41bd-8ffd-867a35aaa061",
   "metadata": {},
   "outputs": [],
   "source": [
    "#Mathematical Functions"
   ]
  },
  {
   "cell_type": "code",
   "execution_count": 50,
   "id": "416595df-6c2a-4df6-ad5b-99cd8628f04b",
   "metadata": {},
   "outputs": [
    {
     "data": {
      "text/plain": [
       "array([[2, 8, 4, 3],\n",
       "       [6, 2, 6, 2],\n",
       "       [8, 9, 9, 3]])"
      ]
     },
     "execution_count": 50,
     "metadata": {},
     "output_type": "execute_result"
    }
   ],
   "source": [
    "arr1"
   ]
  },
  {
   "cell_type": "code",
   "execution_count": 51,
   "id": "b671ae27-3c81-47d9-8d58-17ab3d1b8dbd",
   "metadata": {},
   "outputs": [
    {
     "data": {
      "text/plain": [
       "array([[ 0.90929743,  0.98935825, -0.7568025 ,  0.14112001],\n",
       "       [-0.2794155 ,  0.90929743, -0.2794155 ,  0.90929743],\n",
       "       [ 0.98935825,  0.41211849,  0.41211849,  0.14112001]])"
      ]
     },
     "execution_count": 51,
     "metadata": {},
     "output_type": "execute_result"
    }
   ],
   "source": [
    "np.sin(arr1)"
   ]
  },
  {
   "cell_type": "code",
   "execution_count": 52,
   "id": "fbc726ce-0ab6-40ba-9454-c0885f5cc67d",
   "metadata": {},
   "outputs": [
    {
     "data": {
      "text/plain": [
       "array([[-0.41614684, -0.14550003, -0.65364362, -0.9899925 ],\n",
       "       [ 0.96017029, -0.41614684,  0.96017029, -0.41614684],\n",
       "       [-0.14550003, -0.91113026, -0.91113026, -0.9899925 ]])"
      ]
     },
     "execution_count": 52,
     "metadata": {},
     "output_type": "execute_result"
    }
   ],
   "source": [
    "np.cos(arr1)"
   ]
  },
  {
   "cell_type": "code",
   "execution_count": 53,
   "id": "27bc483f-1c66-489f-929c-932771c3632a",
   "metadata": {},
   "outputs": [
    {
     "data": {
      "text/plain": [
       "array([[-2.18503986, -6.79971146,  1.15782128, -0.14254654],\n",
       "       [-0.29100619, -2.18503986, -0.29100619, -2.18503986],\n",
       "       [-6.79971146, -0.45231566, -0.45231566, -0.14254654]])"
      ]
     },
     "execution_count": 53,
     "metadata": {},
     "output_type": "execute_result"
    }
   ],
   "source": [
    "np.tan(arr1)"
   ]
  },
  {
   "cell_type": "code",
   "execution_count": 54,
   "id": "4f10fbb6-d03a-4796-be0a-b28e06d730ae",
   "metadata": {},
   "outputs": [
    {
     "data": {
      "text/plain": [
       "array([[0.30103   , 0.90308999, 0.60205999, 0.47712125],\n",
       "       [0.77815125, 0.30103   , 0.77815125, 0.30103   ],\n",
       "       [0.90308999, 0.95424251, 0.95424251, 0.47712125]])"
      ]
     },
     "execution_count": 54,
     "metadata": {},
     "output_type": "execute_result"
    }
   ],
   "source": [
    "np.log10(arr1)"
   ]
  },
  {
   "cell_type": "code",
   "execution_count": 55,
   "id": "d135b00f-48e6-42fa-bc64-4a3ae806f835",
   "metadata": {},
   "outputs": [
    {
     "data": {
      "text/plain": [
       "array([[7.38905610e+00, 2.98095799e+03, 5.45981500e+01, 2.00855369e+01],\n",
       "       [4.03428793e+02, 7.38905610e+00, 4.03428793e+02, 7.38905610e+00],\n",
       "       [2.98095799e+03, 8.10308393e+03, 8.10308393e+03, 2.00855369e+01]])"
      ]
     },
     "execution_count": 55,
     "metadata": {},
     "output_type": "execute_result"
    }
   ],
   "source": [
    "np.exp(arr1)"
   ]
  },
  {
   "cell_type": "code",
   "execution_count": 56,
   "id": "6b7c4cd6-b1ca-48fb-8ab4-abf009016492",
   "metadata": {},
   "outputs": [
    {
     "data": {
      "text/plain": [
       "array([[1.41421356, 2.82842712, 2.        , 1.73205081],\n",
       "       [2.44948974, 1.41421356, 2.44948974, 1.41421356],\n",
       "       [2.82842712, 3.        , 3.        , 1.73205081]])"
      ]
     },
     "execution_count": 56,
     "metadata": {},
     "output_type": "execute_result"
    }
   ],
   "source": [
    "np.sqrt(arr1)"
   ]
  },
  {
   "cell_type": "code",
   "execution_count": 58,
   "id": "b3d36b81-819f-4f69-8292-75c4ec549918",
   "metadata": {},
   "outputs": [
    {
     "data": {
      "text/plain": [
       "array([[ 4, 64, 16,  9],\n",
       "       [36,  4, 36,  4],\n",
       "       [64, 81, 81,  9]])"
      ]
     },
     "execution_count": 58,
     "metadata": {},
     "output_type": "execute_result"
    }
   ],
   "source": [
    "np.power(arr1,2)"
   ]
  },
  {
   "cell_type": "code",
   "execution_count": 59,
   "id": "9259314a-21c0-4dbc-b058-6b669b86059a",
   "metadata": {},
   "outputs": [
    {
     "data": {
      "text/plain": [
       "5.166666666666667"
      ]
     },
     "execution_count": 59,
     "metadata": {},
     "output_type": "execute_result"
    }
   ],
   "source": [
    "np.mean(arr1)"
   ]
  },
  {
   "cell_type": "code",
   "execution_count": 61,
   "id": "32754a63-98a9-41d9-8351-f97e8b6e87d0",
   "metadata": {},
   "outputs": [
    {
     "data": {
      "text/plain": [
       "5.0"
      ]
     },
     "execution_count": 61,
     "metadata": {},
     "output_type": "execute_result"
    }
   ],
   "source": [
    "np.median(arr1)"
   ]
  },
  {
   "cell_type": "code",
   "execution_count": 62,
   "id": "17d5183a-bb4c-43c3-a628-1896a2bbe9b6",
   "metadata": {},
   "outputs": [
    {
     "data": {
      "text/plain": [
       "2.7028791233711424"
      ]
     },
     "execution_count": 62,
     "metadata": {},
     "output_type": "execute_result"
    }
   ],
   "source": [
    "np.std(arr1\n",
    "      )"
   ]
  },
  {
   "cell_type": "code",
   "execution_count": 63,
   "id": "4da2da9f-fc71-47ee-8609-9776d0041f54",
   "metadata": {},
   "outputs": [
    {
     "data": {
      "text/plain": [
       "7.305555555555556"
      ]
     },
     "execution_count": 63,
     "metadata": {},
     "output_type": "execute_result"
    }
   ],
   "source": [
    "np.var(arr1)"
   ]
  },
  {
   "cell_type": "code",
   "execution_count": 64,
   "id": "2761b349-11b8-4f69-8a95-5489465d2341",
   "metadata": {},
   "outputs": [
    {
     "data": {
      "text/plain": [
       "2"
      ]
     },
     "execution_count": 64,
     "metadata": {},
     "output_type": "execute_result"
    }
   ],
   "source": [
    "np.min(arr1)"
   ]
  },
  {
   "cell_type": "code",
   "execution_count": 65,
   "id": "4d235637-4b84-46fd-8492-b733a0c1c93e",
   "metadata": {},
   "outputs": [
    {
     "data": {
      "text/plain": [
       "9"
      ]
     },
     "execution_count": 65,
     "metadata": {},
     "output_type": "execute_result"
    }
   ],
   "source": [
    "np.max(arr1)"
   ]
  },
  {
   "cell_type": "code",
   "execution_count": null,
   "id": "cf6e1485-9818-458e-903a-3a1fd7c770e0",
   "metadata": {},
   "outputs": [],
   "source": []
  }
 ],
 "metadata": {
  "kernelspec": {
   "display_name": "Python 3 (ipykernel)",
   "language": "python",
   "name": "python3"
  },
  "language_info": {
   "codemirror_mode": {
    "name": "ipython",
    "version": 3
   },
   "file_extension": ".py",
   "mimetype": "text/x-python",
   "name": "python",
   "nbconvert_exporter": "python",
   "pygments_lexer": "ipython3",
   "version": "3.10.8"
  }
 },
 "nbformat": 4,
 "nbformat_minor": 5
}
