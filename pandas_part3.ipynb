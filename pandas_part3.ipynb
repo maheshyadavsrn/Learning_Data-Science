{
 "cells": [
  {
   "cell_type": "code",
   "execution_count": 1,
   "id": "70ab1fa1-da3f-4455-905d-cc4f19bd72ef",
   "metadata": {},
   "outputs": [],
   "source": [
    "import pandas as pd"
   ]
  },
  {
   "cell_type": "code",
   "execution_count": 2,
   "id": "37506095-1be3-4d46-9aca-c1e37920e20b",
   "metadata": {},
   "outputs": [],
   "source": [
    "df = pd.read_csv(\"https://raw.githubusercontent.com/datasciencedojo/datasets/master/titanic.csv\")"
   ]
  },
  {
   "cell_type": "code",
   "execution_count": 4,
   "id": "3c464c2f-3107-4873-94de-b3f49244068d",
   "metadata": {},
   "outputs": [
    {
     "data": {
      "text/plain": [
       "Index(['PassengerId', 'Survived', 'Pclass', 'Name', 'Sex', 'Age', 'SibSp',\n",
       "       'Parch', 'Ticket', 'Fare', 'Cabin', 'Embarked'],\n",
       "      dtype='object')"
      ]
     },
     "execution_count": 4,
     "metadata": {},
     "output_type": "execute_result"
    }
   ],
   "source": [
    "df.columns"
   ]
  },
  {
   "cell_type": "code",
   "execution_count": 7,
   "id": "64d550c4-fc9a-49f3-80e8-82ffc0c2023c",
   "metadata": {},
   "outputs": [],
   "source": [
    "s=df['Name']"
   ]
  },
  {
   "cell_type": "code",
   "execution_count": 8,
   "id": "6348e28f-21e1-40dc-ab73-e599b2faed72",
   "metadata": {},
   "outputs": [
    {
     "data": {
      "text/plain": [
       "0                                Braund, Mr. Owen Harris\n",
       "1      Cumings, Mrs. John Bradley (Florence Briggs Th...\n",
       "2                                 Heikkinen, Miss. Laina\n",
       "3           Futrelle, Mrs. Jacques Heath (Lily May Peel)\n",
       "4                               Allen, Mr. William Henry\n",
       "                             ...                        \n",
       "886                                Montvila, Rev. Juozas\n",
       "887                         Graham, Miss. Margaret Edith\n",
       "888             Johnston, Miss. Catherine Helen \"Carrie\"\n",
       "889                                Behr, Mr. Karl Howell\n",
       "890                                  Dooley, Mr. Patrick\n",
       "Name: Name, Length: 891, dtype: object"
      ]
     },
     "execution_count": 8,
     "metadata": {},
     "output_type": "execute_result"
    }
   ],
   "source": [
    "s"
   ]
  },
  {
   "cell_type": "code",
   "execution_count": 9,
   "id": "88f1ab92-703b-4bff-863b-ad79bc06a15b",
   "metadata": {},
   "outputs": [
    {
     "data": {
      "text/plain": [
       "891"
      ]
     },
     "execution_count": 9,
     "metadata": {},
     "output_type": "execute_result"
    }
   ],
   "source": [
    "len(s)"
   ]
  },
  {
   "cell_type": "code",
   "execution_count": 10,
   "id": "e95dbb46-b11c-4619-945f-53d7cbe07e22",
   "metadata": {},
   "outputs": [],
   "source": [
    "s=df['Name'][0:10]"
   ]
  },
  {
   "cell_type": "code",
   "execution_count": 11,
   "id": "730e8490-aa9e-416b-909e-c735cb215106",
   "metadata": {},
   "outputs": [
    {
     "data": {
      "text/plain": [
       "0                              Braund, Mr. Owen Harris\n",
       "1    Cumings, Mrs. John Bradley (Florence Briggs Th...\n",
       "2                               Heikkinen, Miss. Laina\n",
       "3         Futrelle, Mrs. Jacques Heath (Lily May Peel)\n",
       "4                             Allen, Mr. William Henry\n",
       "5                                     Moran, Mr. James\n",
       "6                              McCarthy, Mr. Timothy J\n",
       "7                       Palsson, Master. Gosta Leonard\n",
       "8    Johnson, Mrs. Oscar W (Elisabeth Vilhelmina Berg)\n",
       "9                  Nasser, Mrs. Nicholas (Adele Achem)\n",
       "Name: Name, dtype: object"
      ]
     },
     "execution_count": 11,
     "metadata": {},
     "output_type": "execute_result"
    }
   ],
   "source": [
    "s"
   ]
  },
  {
   "cell_type": "code",
   "execution_count": 22,
   "id": "678e744e-7ecb-49a2-9ca1-2a3279121953",
   "metadata": {},
   "outputs": [],
   "source": [
    "l=['Mahesh','b','c','d','e','f','g','h','i','j']"
   ]
  },
  {
   "cell_type": "code",
   "execution_count": 23,
   "id": "56967ddb-7d5a-4115-a54a-f2b0b864ed3d",
   "metadata": {},
   "outputs": [
    {
     "data": {
      "text/plain": [
       "Mahesh    NaN\n",
       "b         NaN\n",
       "c         NaN\n",
       "d         NaN\n",
       "e         NaN\n",
       "f         NaN\n",
       "g         NaN\n",
       "h         NaN\n",
       "i         NaN\n",
       "j         NaN\n",
       "Name: Name, dtype: object"
      ]
     },
     "execution_count": 23,
     "metadata": {},
     "output_type": "execute_result"
    }
   ],
   "source": [
    "pd.Series(s,index=l)"
   ]
  },
  {
   "cell_type": "code",
   "execution_count": 24,
   "id": "4c47eef8-b0fc-4c81-bf9f-08e128433ab5",
   "metadata": {},
   "outputs": [
    {
     "data": {
      "text/plain": [
       "0                              Braund, Mr. Owen Harris\n",
       "1    Cumings, Mrs. John Bradley (Florence Briggs Th...\n",
       "2                               Heikkinen, Miss. Laina\n",
       "3         Futrelle, Mrs. Jacques Heath (Lily May Peel)\n",
       "4                             Allen, Mr. William Henry\n",
       "5                                     Moran, Mr. James\n",
       "6                              McCarthy, Mr. Timothy J\n",
       "7                       Palsson, Master. Gosta Leonard\n",
       "8    Johnson, Mrs. Oscar W (Elisabeth Vilhelmina Berg)\n",
       "9                  Nasser, Mrs. Nicholas (Adele Achem)\n",
       "Name: Name, dtype: object"
      ]
     },
     "execution_count": 24,
     "metadata": {},
     "output_type": "execute_result"
    }
   ],
   "source": [
    "s"
   ]
  },
  {
   "cell_type": "code",
   "execution_count": 25,
   "id": "0d43d271-ff94-4bf1-8550-16f09ff33b64",
   "metadata": {},
   "outputs": [],
   "source": [
    "s1=pd.Series(list(s),index=l)"
   ]
  },
  {
   "cell_type": "code",
   "execution_count": 26,
   "id": "bec3f82a-4ca9-472b-bb8f-7c51bd497e83",
   "metadata": {},
   "outputs": [
    {
     "data": {
      "text/plain": [
       "Mahesh                              Braund, Mr. Owen Harris\n",
       "b         Cumings, Mrs. John Bradley (Florence Briggs Th...\n",
       "c                                    Heikkinen, Miss. Laina\n",
       "d              Futrelle, Mrs. Jacques Heath (Lily May Peel)\n",
       "e                                  Allen, Mr. William Henry\n",
       "f                                          Moran, Mr. James\n",
       "g                                   McCarthy, Mr. Timothy J\n",
       "h                            Palsson, Master. Gosta Leonard\n",
       "i         Johnson, Mrs. Oscar W (Elisabeth Vilhelmina Berg)\n",
       "j                       Nasser, Mrs. Nicholas (Adele Achem)\n",
       "dtype: object"
      ]
     },
     "execution_count": 26,
     "metadata": {},
     "output_type": "execute_result"
    }
   ],
   "source": [
    "s1"
   ]
  },
  {
   "cell_type": "code",
   "execution_count": 27,
   "id": "5457e680-324e-4111-a6d5-ae443562a497",
   "metadata": {},
   "outputs": [
    {
     "data": {
      "text/plain": [
       "'Braund, Mr. Owen Harris'"
      ]
     },
     "execution_count": 27,
     "metadata": {},
     "output_type": "execute_result"
    }
   ],
   "source": [
    "s[0]"
   ]
  },
  {
   "cell_type": "code",
   "execution_count": 28,
   "id": "244e97a9-cd2f-4654-8d5c-ddf813f39e9f",
   "metadata": {},
   "outputs": [
    {
     "data": {
      "text/plain": [
       "'Braund, Mr. Owen Harris'"
      ]
     },
     "execution_count": 28,
     "metadata": {},
     "output_type": "execute_result"
    }
   ],
   "source": [
    "s1[0]"
   ]
  },
  {
   "cell_type": "code",
   "execution_count": 30,
   "id": "8cf70c3b-6726-4813-9f32-804a07add941",
   "metadata": {},
   "outputs": [
    {
     "data": {
      "text/plain": [
       "'Braund, Mr. Owen Harris'"
      ]
     },
     "execution_count": 30,
     "metadata": {},
     "output_type": "execute_result"
    }
   ],
   "source": [
    "s1[\"Mahesh\"]"
   ]
  },
  {
   "cell_type": "code",
   "execution_count": 32,
   "id": "55f70795-fcc1-4ec9-95d0-0c7d1c5b19a7",
   "metadata": {},
   "outputs": [
    {
     "name": "stderr",
     "output_type": "stream",
     "text": [
      "/tmp/ipykernel_98/2552242485.py:1: FutureWarning: The series.append method is deprecated and will be removed from pandas in a future version. Use pandas.concat instead.\n",
      "  s2=s1.append(s)\n"
     ]
    }
   ],
   "source": [
    "s2=s1.append(s)"
   ]
  },
  {
   "cell_type": "code",
   "execution_count": 33,
   "id": "b22ce051-151f-46a8-a27b-8d940a3ec13b",
   "metadata": {},
   "outputs": [
    {
     "data": {
      "text/plain": [
       "Mahesh                              Braund, Mr. Owen Harris\n",
       "b         Cumings, Mrs. John Bradley (Florence Briggs Th...\n",
       "c                                    Heikkinen, Miss. Laina\n",
       "d              Futrelle, Mrs. Jacques Heath (Lily May Peel)\n",
       "e                                  Allen, Mr. William Henry\n",
       "f                                          Moran, Mr. James\n",
       "g                                   McCarthy, Mr. Timothy J\n",
       "h                            Palsson, Master. Gosta Leonard\n",
       "i         Johnson, Mrs. Oscar W (Elisabeth Vilhelmina Berg)\n",
       "j                       Nasser, Mrs. Nicholas (Adele Achem)\n",
       "0                                   Braund, Mr. Owen Harris\n",
       "1         Cumings, Mrs. John Bradley (Florence Briggs Th...\n",
       "2                                    Heikkinen, Miss. Laina\n",
       "3              Futrelle, Mrs. Jacques Heath (Lily May Peel)\n",
       "4                                  Allen, Mr. William Henry\n",
       "5                                          Moran, Mr. James\n",
       "6                                   McCarthy, Mr. Timothy J\n",
       "7                            Palsson, Master. Gosta Leonard\n",
       "8         Johnson, Mrs. Oscar W (Elisabeth Vilhelmina Berg)\n",
       "9                       Nasser, Mrs. Nicholas (Adele Achem)\n",
       "dtype: object"
      ]
     },
     "execution_count": 33,
     "metadata": {},
     "output_type": "execute_result"
    }
   ],
   "source": [
    "s2"
   ]
  },
  {
   "cell_type": "code",
   "execution_count": 37,
   "id": "13bfd9e5-a4ae-4af7-9607-b16f9a23c887",
   "metadata": {},
   "outputs": [
    {
     "data": {
      "text/plain": [
       "'Allen, Mr. William Henry'"
      ]
     },
     "execution_count": 37,
     "metadata": {},
     "output_type": "execute_result"
    }
   ],
   "source": [
    "s2[4]"
   ]
  },
  {
   "cell_type": "code",
   "execution_count": 42,
   "id": "039da145-1ad7-497c-bd60-2be45843fe8c",
   "metadata": {},
   "outputs": [],
   "source": [
    "s4=pd.Series([4,8,3,9,6] , index=[8,9,5,0,9])"
   ]
  },
  {
   "cell_type": "code",
   "execution_count": 44,
   "id": "04dfbe78-6a66-498d-886f-bde69192f4a9",
   "metadata": {},
   "outputs": [],
   "source": [
    "s5=pd.Series([47,8,93,95,6] , index=[8,9,5,0,9])"
   ]
  },
  {
   "cell_type": "code",
   "execution_count": 51,
   "id": "a73aff2a-bcd9-463b-9aa1-5f4708ea25df",
   "metadata": {},
   "outputs": [
    {
     "name": "stderr",
     "output_type": "stream",
     "text": [
      "/tmp/ipykernel_98/884104408.py:1: FutureWarning: The series.append method is deprecated and will be removed from pandas in a future version. Use pandas.concat instead.\n",
      "  s6=s4.append(s5)\n"
     ]
    }
   ],
   "source": [
    "s6=s4.append(s5)"
   ]
  },
  {
   "cell_type": "code",
   "execution_count": 52,
   "id": "f7a81c5c-40d8-4ce0-a08d-223f5eeab7c1",
   "metadata": {},
   "outputs": [
    {
     "data": {
      "text/plain": [
       "8    47\n",
       "9     8\n",
       "5    93\n",
       "0    95\n",
       "9     6\n",
       "8    47\n",
       "9     8\n",
       "5    93\n",
       "0    95\n",
       "9     6\n",
       "dtype: int64"
      ]
     },
     "execution_count": 52,
     "metadata": {},
     "output_type": "execute_result"
    }
   ],
   "source": [
    "s6"
   ]
  },
  {
   "cell_type": "code",
   "execution_count": 55,
   "id": "e1c23e8d-bd6d-47e9-af77-085e0cb2f47c",
   "metadata": {},
   "outputs": [
    {
     "name": "stderr",
     "output_type": "stream",
     "text": [
      "/tmp/ipykernel_98/2671872114.py:1: FutureWarning: The behavior of `series[i:j]` with an integer-dtype index is deprecated. In a future version, this will be treated as *label-based* indexing, consistent with e.g. `series[i]` lookups. To retain the old behavior, use `series.iloc[i:j]`. To get the future behavior, use `series.loc[i:j]`.\n",
      "  s6[0:5]\n"
     ]
    },
    {
     "data": {
      "text/plain": [
       "8    47\n",
       "9     8\n",
       "5    93\n",
       "0    95\n",
       "9     6\n",
       "dtype: int64"
      ]
     },
     "execution_count": 55,
     "metadata": {},
     "output_type": "execute_result"
    }
   ],
   "source": [
    "s6[0:5]"
   ]
  },
  {
   "cell_type": "code",
   "execution_count": 56,
   "id": "f7b49ed9-81e0-4b55-af19-a46bbad38f54",
   "metadata": {},
   "outputs": [
    {
     "data": {
      "text/plain": [
       "8    47\n",
       "9     8\n",
       "5    93\n",
       "0    95\n",
       "9     6\n",
       "dtype: int64"
      ]
     },
     "execution_count": 56,
     "metadata": {},
     "output_type": "execute_result"
    }
   ],
   "source": [
    "s4"
   ]
  },
  {
   "cell_type": "code",
   "execution_count": 57,
   "id": "2b0d8abb-d96c-4158-abda-214df88ca476",
   "metadata": {},
   "outputs": [
    {
     "data": {
      "text/plain": [
       "8    47\n",
       "9     8\n",
       "5    93\n",
       "0    95\n",
       "9     6\n",
       "dtype: int64"
      ]
     },
     "execution_count": 57,
     "metadata": {},
     "output_type": "execute_result"
    }
   ],
   "source": [
    "s5"
   ]
  },
  {
   "cell_type": "code",
   "execution_count": 58,
   "id": "13328421-53b3-461c-9219-a4a2698d8f15",
   "metadata": {},
   "outputs": [
    {
     "data": {
      "text/plain": [
       "8    2209\n",
       "9      64\n",
       "5    8649\n",
       "0    9025\n",
       "9      36\n",
       "dtype: int64"
      ]
     },
     "execution_count": 58,
     "metadata": {},
     "output_type": "execute_result"
    }
   ],
   "source": [
    "s4*s5"
   ]
  },
  {
   "cell_type": "code",
   "execution_count": 59,
   "id": "7dbb876f-50b1-4c4b-801c-ab2aac7acc00",
   "metadata": {},
   "outputs": [
    {
     "data": {
      "text/plain": [
       "8     94\n",
       "9     16\n",
       "5    186\n",
       "0    190\n",
       "9     12\n",
       "dtype: int64"
      ]
     },
     "execution_count": 59,
     "metadata": {},
     "output_type": "execute_result"
    }
   ],
   "source": [
    "s4+s5"
   ]
  },
  {
   "cell_type": "code",
   "execution_count": null,
   "id": "cb4f2261-f4b9-489e-8735-299b35b73310",
   "metadata": {},
   "outputs": [],
   "source": []
  }
 ],
 "metadata": {
  "kernelspec": {
   "display_name": "Python 3 (ipykernel)",
   "language": "python",
   "name": "python3"
  },
  "language_info": {
   "codemirror_mode": {
    "name": "ipython",
    "version": 3
   },
   "file_extension": ".py",
   "mimetype": "text/x-python",
   "name": "python",
   "nbconvert_exporter": "python",
   "pygments_lexer": "ipython3",
   "version": "3.10.8"
  }
 },
 "nbformat": 4,
 "nbformat_minor": 5
}
