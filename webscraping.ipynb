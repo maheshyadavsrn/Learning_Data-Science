{
 "cells": [
  {
   "cell_type": "code",
   "execution_count": 50,
   "id": "50393a80-a1e9-457a-9546-34cf1c96ac9d",
   "metadata": {},
   "outputs": [],
   "source": [
    "import requests\n",
    "from bs4 import BeautifulSoup as bs\n",
    "from urllib.request import urlopen as uReq\n",
    "import logging"
   ]
  },
  {
   "cell_type": "code",
   "execution_count": 51,
   "id": "195e1e51-0feb-4393-90ff-54ac774c30cd",
   "metadata": {},
   "outputs": [],
   "source": [
    "flipcart_url=\"https://www.flipkart.com/search?q=\" + \"realme6\""
   ]
  },
  {
   "cell_type": "code",
   "execution_count": 52,
   "id": "9b4ab334-369f-4b23-b4b2-9946ebba1ced",
   "metadata": {},
   "outputs": [
    {
     "data": {
      "text/plain": [
       "'https://www.flipkart.com/search?q=realme6'"
      ]
     },
     "execution_count": 52,
     "metadata": {},
     "output_type": "execute_result"
    }
   ],
   "source": [
    "flipcart_url"
   ]
  },
  {
   "cell_type": "code",
   "execution_count": 53,
   "id": "90d629ac-de71-4442-ad69-09aba589c971",
   "metadata": {},
   "outputs": [],
   "source": [
    "urlclient=uReq(flipcart_url)"
   ]
  },
  {
   "cell_type": "code",
   "execution_count": 54,
   "id": "7877b340-9a0d-44fa-b6d1-5a063d31041a",
   "metadata": {},
   "outputs": [
    {
     "data": {
      "text/plain": [
       "<http.client.HTTPResponse at 0x7f2ac802be80>"
      ]
     },
     "execution_count": 54,
     "metadata": {},
     "output_type": "execute_result"
    }
   ],
   "source": [
    "urlclient"
   ]
  },
  {
   "cell_type": "code",
   "execution_count": 55,
   "id": "1833b757-88e6-4887-81b9-b47bd8ec19e5",
   "metadata": {},
   "outputs": [],
   "source": [
    "flipcard_page =urlclient.read()"
   ]
  },
  {
   "cell_type": "code",
   "execution_count": 56,
   "id": "7b04b016-a532-4518-a6c7-902f0124ab50",
   "metadata": {},
   "outputs": [],
   "source": [
    "flipcart_html=bs(flipcard_page,'html.parser')"
   ]
  },
  {
   "cell_type": "code",
   "execution_count": 57,
   "id": "75172d9c-9424-4529-bddf-2079a64316e0",
   "metadata": {},
   "outputs": [
    {
     "data": {
      "text/plain": [
       "'https://www.flipkart.com/apple-iphone-11-black-64-gb/p/itm4e5041ba101fd?pid=MOBFWQ6BXGJCEYNY&lid=LSTMOBFWQ6BXGJCEYNYZXSHRJ&marketplace=FLIPKART&q=iphone+11&store=tyy%2F4io&srno=s_1_3&otracker=AS_Query_OrganicAutoSuggest_6_1_na_na_na&otracker1=AS_Query_OrganicAutoSuggest_6_1_na_na_na&fm=organic&iid=6a9f25b3-5f5f-49c5-a5c6-57e44e2ba84d.MOBFWQ6BXGJCEYNY.SEARCH&ppt=hp&ppn=homepage&ssid=w3ebejngkw0000001689617768662&qH=f6cdfdaa9f3c23f3'"
      ]
     },
     "execution_count": 57,
     "metadata": {},
     "output_type": "execute_result"
    }
   ],
   "source": [
    "\"https://www.flipkart.com/\"+\"apple-iphone-11-black-64-gb/p/itm4e5041ba101fd?pid=MOBFWQ6BXGJCEYNY&lid=LSTMOBFWQ6BXGJCEYNYZXSHRJ&marketplace=FLIPKART&q=iphone+11&store=tyy%2F4io&srno=s_1_3&otracker=AS_Query_OrganicAutoSuggest_6_1_na_na_na&otracker1=AS_Query_OrganicAutoSuggest_6_1_na_na_na&fm=organic&iid=6a9f25b3-5f5f-49c5-a5c6-57e44e2ba84d.MOBFWQ6BXGJCEYNY.SEARCH&ppt=hp&ppn=homepage&ssid=w3ebejngkw0000001689617768662&qH=f6cdfdaa9f3c23f3\""
   ]
  },
  {
   "cell_type": "code",
   "execution_count": 58,
   "id": "b5578791-d1ff-40ec-8baa-d61ea01aff21",
   "metadata": {},
   "outputs": [],
   "source": [
    "bigbox=flipcart_html.findAll(\"div\",{\"class\":\"_1AtVbE col-12-12\"})"
   ]
  },
  {
   "cell_type": "code",
   "execution_count": 59,
   "id": "86c283bb-181a-4594-9045-c4f4825554c4",
   "metadata": {},
   "outputs": [
    {
     "data": {
      "text/plain": [
       "30"
      ]
     },
     "execution_count": 59,
     "metadata": {},
     "output_type": "execute_result"
    }
   ],
   "source": [
    "len(bigbox)"
   ]
  },
  {
   "cell_type": "code",
   "execution_count": 60,
   "id": "9f97af7f-62c7-4445-966c-8100bb9ad2f4",
   "metadata": {},
   "outputs": [],
   "source": [
    "del bigbox[0:3]"
   ]
  },
  {
   "cell_type": "code",
   "execution_count": 61,
   "id": "c6435bb6-d085-47f3-b201-aa69bd406518",
   "metadata": {},
   "outputs": [
    {
     "data": {
      "text/plain": [
       "'/realme-6-comet-white-64-gb/p/itm60c8ea61964bf?pid=MOBFPCX7VUY74ZND&lid=LSTMOBFPCX7VUY74ZNDMGKMU7&marketplace=FLIPKART&q=realme6&store=tyy%2F4io&srno=s_1_5&otracker=search&fm=organic&iid=9fc4fa59-1212-4f80-b8da-121f1090f8e0.MOBFPCX7VUY74ZND.SEARCH&ppt=None&ppn=None&ssid=fy6d1umd6o0000001689684928948&qH=704ad81f91ab730e'"
      ]
     },
     "execution_count": 61,
     "metadata": {},
     "output_type": "execute_result"
    }
   ],
   "source": [
    "bigbox[3].div.div.div.a['href']"
   ]
  },
  {
   "cell_type": "code",
   "execution_count": 62,
   "id": "959ea150-ea8c-4a40-a812-f949ae1787fb",
   "metadata": {},
   "outputs": [
    {
     "data": {
      "text/plain": [
       "'/realme-c55-rainforest-64-gb/p/itm054283d14c56e?pid=MOBGNBYJTZYZJZM5&lid=LSTMOBGNBYJTZYZJZM58JKCAH&marketplace=FLIPKART&q=realme6&store=tyy%2F4io&spotlightTagId=BestsellerId_tyy%2F4io&srno=s_1_7&otracker=search&fm=organic&iid=9fc4fa59-1212-4f80-b8da-121f1090f8e0.MOBGNBYJTZYZJZM5.SEARCH&ppt=None&ppn=None&ssid=fy6d1umd6o0000001689684928948&qH=704ad81f91ab730e'"
      ]
     },
     "execution_count": 62,
     "metadata": {},
     "output_type": "execute_result"
    }
   ],
   "source": [
    "bigbox[5].div.div.div.a['href']"
   ]
  },
  {
   "cell_type": "code",
   "execution_count": 63,
   "id": "478e069a-cc90-4c97-b96f-87c450c9e84d",
   "metadata": {},
   "outputs": [],
   "source": [
    "productlink=\"https://www.flipkart.com\"+bigbox[3].div.div.div.a['href']"
   ]
  },
  {
   "cell_type": "code",
   "execution_count": 64,
   "id": "9e46318b-133a-4bbb-abb7-59d4c5378faf",
   "metadata": {},
   "outputs": [],
   "source": [
    "product_req=requests.get(productlink)"
   ]
  },
  {
   "cell_type": "code",
   "execution_count": 65,
   "id": "75b256bb-64ff-4e22-8c29-ef490f6bda39",
   "metadata": {},
   "outputs": [
    {
     "data": {
      "text/plain": [
       "'https://www.flipkart.com/realme-6-comet-white-64-gb/p/itm60c8ea61964bf?pid=MOBFPCX7VUY74ZND&lid=LSTMOBFPCX7VUY74ZNDMGKMU7&marketplace=FLIPKART&q=realme6&store=tyy%2F4io&srno=s_1_5&otracker=search&fm=organic&iid=9fc4fa59-1212-4f80-b8da-121f1090f8e0.MOBFPCX7VUY74ZND.SEARCH&ppt=None&ppn=None&ssid=fy6d1umd6o0000001689684928948&qH=704ad81f91ab730e'"
      ]
     },
     "execution_count": 65,
     "metadata": {},
     "output_type": "execute_result"
    }
   ],
   "source": [
    "productlink"
   ]
  },
  {
   "cell_type": "code",
   "execution_count": 66,
   "id": "da61598c-dd75-4819-92aa-18cb79bd8bf0",
   "metadata": {},
   "outputs": [],
   "source": [
    "product_html = bs(product_req.text,'html.parser')"
   ]
  },
  {
   "cell_type": "code",
   "execution_count": 67,
   "id": "ec1c842c-9226-44f6-b4d4-4e9be6f987d5",
   "metadata": {},
   "outputs": [],
   "source": [
    "comment_box=product_html.find_all(\"div\",{\"class\":\"_16PBlm\"})"
   ]
  },
  {
   "cell_type": "code",
   "execution_count": 68,
   "id": "ca029e23-6677-4619-9f4a-11944051568d",
   "metadata": {},
   "outputs": [
    {
     "data": {
      "text/plain": [
       "11"
      ]
     },
     "execution_count": 68,
     "metadata": {},
     "output_type": "execute_result"
    }
   ],
   "source": [
    "len(comment_box)"
   ]
  },
  {
   "cell_type": "code",
   "execution_count": 69,
   "id": "9373b2af-8d79-43b9-8531-b065c1b8d6f0",
   "metadata": {},
   "outputs": [
    {
     "data": {
      "text/plain": [
       "'Kaushik Bera'"
      ]
     },
     "execution_count": 69,
     "metadata": {},
     "output_type": "execute_result"
    }
   ],
   "source": [
    "comment_box[0].div.div.find_all('p',{\"class\":\"_2sc7ZR _2V5EHH\"})[0].text"
   ]
  },
  {
   "cell_type": "code",
   "execution_count": 70,
   "id": "579a91ed-e205-4aad-b7aa-ad44b9887db9",
   "metadata": {},
   "outputs": [
    {
     "name": "stdout",
     "output_type": "stream",
     "text": [
      "Kaushik Bera\n",
      "Vasanth  T\n",
      "kailash Malviya\n",
      "Avijit Koley\n",
      "Rohit  RAJ\n",
      "himanshu  sharma\n",
      "Prashant Roy\n",
      "Flipkart Customer\n",
      "Raju  Kushwaha\n",
      "Syam Sundar\n"
     ]
    },
    {
     "ename": "AttributeError",
     "evalue": "'NoneType' object has no attribute 'div'",
     "output_type": "error",
     "traceback": [
      "\u001b[0;31m---------------------------------------------------------------------------\u001b[0m",
      "\u001b[0;31mAttributeError\u001b[0m                            Traceback (most recent call last)",
      "Cell \u001b[0;32mIn[70], line 2\u001b[0m\n\u001b[1;32m      1\u001b[0m \u001b[38;5;28;01mfor\u001b[39;00m i \u001b[38;5;129;01min\u001b[39;00m comment_box:\n\u001b[0;32m----> 2\u001b[0m     \u001b[38;5;28mprint\u001b[39m(\u001b[43mi\u001b[49m\u001b[38;5;241;43m.\u001b[39;49m\u001b[43mdiv\u001b[49m\u001b[38;5;241;43m.\u001b[39;49m\u001b[43mdiv\u001b[49m\u001b[38;5;241m.\u001b[39mfind_all(\u001b[38;5;124m'\u001b[39m\u001b[38;5;124mp\u001b[39m\u001b[38;5;124m'\u001b[39m,{\u001b[38;5;124m\"\u001b[39m\u001b[38;5;124mclass\u001b[39m\u001b[38;5;124m\"\u001b[39m:\u001b[38;5;124m\"\u001b[39m\u001b[38;5;124m_2sc7ZR _2V5EHH\u001b[39m\u001b[38;5;124m\"\u001b[39m})[\u001b[38;5;241m0\u001b[39m]\u001b[38;5;241m.\u001b[39mtext)\n",
      "\u001b[0;31mAttributeError\u001b[0m: 'NoneType' object has no attribute 'div'"
     ]
    }
   ],
   "source": [
    "for i in comment_box:\n",
    "    print(i.div.div.find_all('p',{\"class\":\"_2sc7ZR _2V5EHH\"})[0].text)\n",
    "    "
   ]
  },
  {
   "cell_type": "code",
   "execution_count": 71,
   "id": "6c60b1b6-1c2b-4082-bee6-e232643eaea9",
   "metadata": {},
   "outputs": [
    {
     "data": {
      "text/plain": [
       "'5'"
      ]
     },
     "execution_count": 71,
     "metadata": {},
     "output_type": "execute_result"
    }
   ],
   "source": [
    "comment_box[0].div.div.div.div.text"
   ]
  },
  {
   "cell_type": "code",
   "execution_count": 72,
   "id": "6f176666-1f61-47b2-9642-0ca58e2838dc",
   "metadata": {},
   "outputs": [
    {
     "name": "stdout",
     "output_type": "stream",
     "text": [
      "5\n",
      "5\n",
      "5\n",
      "5\n",
      "4\n",
      "5\n",
      "5\n",
      "5\n",
      "5\n",
      "5\n"
     ]
    },
    {
     "ename": "AttributeError",
     "evalue": "'NoneType' object has no attribute 'div'",
     "output_type": "error",
     "traceback": [
      "\u001b[0;31m---------------------------------------------------------------------------\u001b[0m",
      "\u001b[0;31mAttributeError\u001b[0m                            Traceback (most recent call last)",
      "Cell \u001b[0;32mIn[72], line 2\u001b[0m\n\u001b[1;32m      1\u001b[0m \u001b[38;5;28;01mfor\u001b[39;00m i \u001b[38;5;129;01min\u001b[39;00m comment_box:\n\u001b[0;32m----> 2\u001b[0m     \u001b[38;5;28mprint\u001b[39m(\u001b[43mi\u001b[49m\u001b[38;5;241;43m.\u001b[39;49m\u001b[43mdiv\u001b[49m\u001b[38;5;241;43m.\u001b[39;49m\u001b[43mdiv\u001b[49m\u001b[38;5;241m.\u001b[39mdiv\u001b[38;5;241m.\u001b[39mdiv\u001b[38;5;241m.\u001b[39mtext)\n",
      "\u001b[0;31mAttributeError\u001b[0m: 'NoneType' object has no attribute 'div'"
     ]
    }
   ],
   "source": [
    "for i in comment_box:\n",
    "    print(i.div.div.div.div.text)"
   ]
  },
  {
   "cell_type": "code",
   "execution_count": 73,
   "id": "a97e1e60-0b33-40fb-a494-81d04d4863fd",
   "metadata": {},
   "outputs": [
    {
     "data": {
      "text/plain": [
       "'Great product'"
      ]
     },
     "execution_count": 73,
     "metadata": {},
     "output_type": "execute_result"
    }
   ],
   "source": [
    "comment_box[0].div.div.div.p.text"
   ]
  },
  {
   "cell_type": "code",
   "execution_count": 74,
   "id": "dcb687a8-f933-4184-8021-590213773d5c",
   "metadata": {},
   "outputs": [
    {
     "name": "stdout",
     "output_type": "stream",
     "text": [
      "Great product\n",
      "Wonderful\n",
      "Terrific\n",
      "Just okay\n",
      "Wonderful\n",
      "Great product\n",
      "Awesome\n",
      "Simply awesome\n",
      "Brilliant\n",
      "Best in the market!\n"
     ]
    },
    {
     "ename": "AttributeError",
     "evalue": "'NoneType' object has no attribute 'div'",
     "output_type": "error",
     "traceback": [
      "\u001b[0;31m---------------------------------------------------------------------------\u001b[0m",
      "\u001b[0;31mAttributeError\u001b[0m                            Traceback (most recent call last)",
      "Cell \u001b[0;32mIn[74], line 2\u001b[0m\n\u001b[1;32m      1\u001b[0m \u001b[38;5;28;01mfor\u001b[39;00m i \u001b[38;5;129;01min\u001b[39;00m comment_box:\n\u001b[0;32m----> 2\u001b[0m     \u001b[38;5;28mprint\u001b[39m(\u001b[43mi\u001b[49m\u001b[38;5;241;43m.\u001b[39;49m\u001b[43mdiv\u001b[49m\u001b[38;5;241;43m.\u001b[39;49m\u001b[43mdiv\u001b[49m\u001b[38;5;241m.\u001b[39mdiv\u001b[38;5;241m.\u001b[39mp\u001b[38;5;241m.\u001b[39mtext)\n",
      "\u001b[0;31mAttributeError\u001b[0m: 'NoneType' object has no attribute 'div'"
     ]
    }
   ],
   "source": [
    "for i in comment_box:\n",
    "    print(i.div.div.div.p.text)"
   ]
  },
  {
   "cell_type": "code",
   "execution_count": 75,
   "id": "3bcf745b-4ec4-4400-a548-24055bcc5d2c",
   "metadata": {},
   "outputs": [
    {
     "data": {
      "text/plain": [
       "'Superb Camera!!!!!!'"
      ]
     },
     "execution_count": 75,
     "metadata": {},
     "output_type": "execute_result"
    }
   ],
   "source": [
    "comment_box[0].div.div.find_all('div',{\"class\":\"\"})[0].div.text"
   ]
  },
  {
   "cell_type": "code",
   "execution_count": 76,
   "id": "02207fac-79e7-4b45-9c61-4bc4dbb6fbc5",
   "metadata": {},
   "outputs": [
    {
     "name": "stdout",
     "output_type": "stream",
     "text": [
      "Superb Camera!!!!!!\n",
      "Best mid range phone.. and worth every penny!\n",
      "Excellent performance and awesome camera qualityIt should me more better with ota update, ❤️❤️battery is quite low cose of 90hz refresh rate but 30w superfast vooc charger make it charge withine an hourBest valu for money device💙💙💙💙\n",
      "Nice camera quality.\n",
      "Mobile is Very good..In case of camera I have to Rate it as 5/5Battery doesn't provide that great performance but at the End Vooc Charging Does it's Job.Display is a really Amazing have to Give 5/5Sound quality 5/5Microphone 4/5Build quality is Amazing.The phone is Really an head Twister at this Price Segment this one is an Gem. Lovely to have Realme offering this kind of Stuff to their users at That Cheap Price\n",
      "best phone under this price 👌👍👍\n",
      "Massive charging makes realme 6 a powerhouse.Massive screen refresh rate at this price.64 MP camera , portrait,macro,and wide angle all are very very good.Thanks realme.Hope you would make your tablets very soon.Thanks Flipkart toooo.\n",
      "Nice performance, good cam, value for money ❤️❤️❤️❤️❤️\n",
      "Amazing.... phone I'm totally certified this product 🤗🤗🤗☝️☝️\n",
      "90 hz Display superbExcellent 30w fast charging.Sound quality good.Very fast Finger print.Superb processor.Doesn't feel any lag during usage.Back camera quality not bad.But front camera quality not much as my expectation.Some small heating occurs.Overall Good..\n"
     ]
    },
    {
     "ename": "AttributeError",
     "evalue": "'NoneType' object has no attribute 'div'",
     "output_type": "error",
     "traceback": [
      "\u001b[0;31m---------------------------------------------------------------------------\u001b[0m",
      "\u001b[0;31mAttributeError\u001b[0m                            Traceback (most recent call last)",
      "Cell \u001b[0;32mIn[76], line 2\u001b[0m\n\u001b[1;32m      1\u001b[0m \u001b[38;5;28;01mfor\u001b[39;00m i \u001b[38;5;129;01min\u001b[39;00m comment_box:\n\u001b[0;32m----> 2\u001b[0m     \u001b[38;5;28mprint\u001b[39m(\u001b[43mi\u001b[49m\u001b[38;5;241;43m.\u001b[39;49m\u001b[43mdiv\u001b[49m\u001b[38;5;241;43m.\u001b[39;49m\u001b[43mdiv\u001b[49m\u001b[38;5;241m.\u001b[39mfind_all(\u001b[38;5;124m'\u001b[39m\u001b[38;5;124mdiv\u001b[39m\u001b[38;5;124m'\u001b[39m,{\u001b[38;5;124m\"\u001b[39m\u001b[38;5;124mclass\u001b[39m\u001b[38;5;124m\"\u001b[39m:\u001b[38;5;124m\"\u001b[39m\u001b[38;5;124m\"\u001b[39m})[\u001b[38;5;241m0\u001b[39m]\u001b[38;5;241m.\u001b[39mdiv\u001b[38;5;241m.\u001b[39mtext)\n",
      "\u001b[0;31mAttributeError\u001b[0m: 'NoneType' object has no attribute 'div'"
     ]
    }
   ],
   "source": [
    "for i in comment_box:\n",
    "    print(i.div.div.find_all('div',{\"class\":\"\"})[0].div.text)"
   ]
  },
  {
   "cell_type": "code",
   "execution_count": null,
   "id": "3dcef7c4-f26e-4112-b4ed-c7265c51d231",
   "metadata": {},
   "outputs": [],
   "source": []
  },
  {
   "cell_type": "code",
   "execution_count": null,
   "id": "ff8fb083-6a7b-4540-9be8-ee4f0c099cde",
   "metadata": {},
   "outputs": [],
   "source": []
  },
  {
   "cell_type": "code",
   "execution_count": null,
   "id": "a1d69453-47fe-4682-a916-251e0df4f6c9",
   "metadata": {},
   "outputs": [],
   "source": []
  },
  {
   "cell_type": "code",
   "execution_count": 77,
   "id": "4cfc736a-8767-4774-ab0d-a1ef63cd7b65",
   "metadata": {},
   "outputs": [
    {
     "name": "stdout",
     "output_type": "stream",
     "text": [
      "https://www.flipkart.com/realme-6-comet-blue-128-gb/p/itm50e6d62dcf5ee?pid=MOBFPCX72FYWY7NF&lid=LSTMOBFPCX72FYWY7NFADYHCJ&marketplace=FLIPKART&q=realme6&store=tyy%2F4io&srno=s_1_2&otracker=search&fm=organic&iid=9fc4fa59-1212-4f80-b8da-121f1090f8e0.MOBFPCX72FYWY7NF.SEARCH&ppt=None&ppn=None&ssid=fy6d1umd6o0000001689684928948&qH=704ad81f91ab730e\n",
      "https://www.flipkart.com/realme-6-comet-blue-64-gb/p/itma64226eb3e2d2?pid=MOBFTAZ5CXWPRYKW&lid=LSTMOBFTAZ5CXWPRYKWQYRGQK&marketplace=FLIPKART&q=realme6&store=tyy%2F4io&srno=s_1_3&otracker=search&fm=organic&iid=9fc4fa59-1212-4f80-b8da-121f1090f8e0.MOBFTAZ5CXWPRYKW.SEARCH&ppt=None&ppn=None&ssid=fy6d1umd6o0000001689684928948&qH=704ad81f91ab730e\n",
      "https://www.flipkart.com/realme-6-comet-white-64-gb/p/itma64226eb3e2d2?pid=MOBFTAZ5DSJYBFWU&lid=LSTMOBFTAZ5DSJYBFWUU5YGUA&marketplace=FLIPKART&q=realme6&store=tyy%2F4io&srno=s_1_4&otracker=search&fm=organic&iid=9fc4fa59-1212-4f80-b8da-121f1090f8e0.MOBFTAZ5DSJYBFWU.SEARCH&ppt=None&ppn=None&ssid=fy6d1umd6o0000001689684928948&qH=704ad81f91ab730e\n",
      "https://www.flipkart.com/realme-6-comet-white-64-gb/p/itm60c8ea61964bf?pid=MOBFPCX7VUY74ZND&lid=LSTMOBFPCX7VUY74ZNDMGKMU7&marketplace=FLIPKART&q=realme6&store=tyy%2F4io&srno=s_1_5&otracker=search&fm=organic&iid=9fc4fa59-1212-4f80-b8da-121f1090f8e0.MOBFPCX7VUY74ZND.SEARCH&ppt=None&ppn=None&ssid=fy6d1umd6o0000001689684928948&qH=704ad81f91ab730e\n",
      "https://www.flipkart.com/realme-c55-rainforest-128-gb/p/itm054283d14c56e?pid=MOBGNBYJPF2DEADS&lid=LSTMOBGNBYJPF2DEADSUWHGW7&marketplace=FLIPKART&q=realme6&store=tyy%2F4io&srno=s_1_6&otracker=search&fm=organic&iid=9fc4fa59-1212-4f80-b8da-121f1090f8e0.MOBGNBYJPF2DEADS.SEARCH&ppt=None&ppn=None&ssid=fy6d1umd6o0000001689684928948&qH=704ad81f91ab730e\n",
      "https://www.flipkart.com/realme-c55-rainforest-64-gb/p/itm054283d14c56e?pid=MOBGNBYJTZYZJZM5&lid=LSTMOBGNBYJTZYZJZM58JKCAH&marketplace=FLIPKART&q=realme6&store=tyy%2F4io&spotlightTagId=BestsellerId_tyy%2F4io&srno=s_1_7&otracker=search&fm=organic&iid=9fc4fa59-1212-4f80-b8da-121f1090f8e0.MOBGNBYJTZYZJZM5.SEARCH&ppt=None&ppn=None&ssid=fy6d1umd6o0000001689684928948&qH=704ad81f91ab730e\n",
      "https://www.flipkart.com/realme-c55-rainforest-64-gb/p/itm054283d14c56e?pid=MOBGNBYJ3GSGXWYQ&lid=LSTMOBGNBYJ3GSGXWYQAWLW8U&marketplace=FLIPKART&q=realme6&store=tyy%2F4io&srno=s_1_8&otracker=search&fm=organic&iid=9fc4fa59-1212-4f80-b8da-121f1090f8e0.MOBGNBYJ3GSGXWYQ.SEARCH&ppt=None&ppn=None&ssid=fy6d1umd6o0000001689684928948&qH=704ad81f91ab730e\n",
      "https://www.flipkart.com/realme-c55-sunshower-64-gb/p/itm054283d14c56e?pid=MOBGNBYJCXN6WRB3&lid=LSTMOBGNBYJCXN6WRB3NDXTAJ&marketplace=FLIPKART&q=realme6&store=tyy%2F4io&spotlightTagId=BestsellerId_tyy%2F4io&srno=s_1_9&otracker=search&fm=organic&iid=9fc4fa59-1212-4f80-b8da-121f1090f8e0.MOBGNBYJCXN6WRB3.SEARCH&ppt=None&ppn=None&ssid=fy6d1umd6o0000001689684928948&qH=704ad81f91ab730e\n",
      "https://www.flipkart.com/realme-c55-sunshower-128-gb/p/itm054283d14c56e?pid=MOBGNBYJUA2G5HK4&lid=LSTMOBGNBYJUA2G5HK40FPVVJ&marketplace=FLIPKART&q=realme6&store=tyy%2F4io&srno=s_1_10&otracker=search&fm=organic&iid=9fc4fa59-1212-4f80-b8da-121f1090f8e0.MOBGNBYJUA2G5HK4.SEARCH&ppt=None&ppn=None&ssid=fy6d1umd6o0000001689684928948&qH=704ad81f91ab730e\n",
      "https://www.flipkart.com/realme-c55-rainy-night-64-gb/p/itm054283d14c56e?pid=MOBGNBYJXR9BTBFT&lid=LSTMOBGNBYJXR9BTBFTO9NHKK&marketplace=FLIPKART&q=realme6&store=tyy%2F4io&spotlightTagId=BestsellerId_tyy%2F4io&srno=s_1_11&otracker=search&fm=organic&iid=9fc4fa59-1212-4f80-b8da-121f1090f8e0.MOBGNBYJXR9BTBFT.SEARCH&ppt=None&ppn=None&ssid=fy6d1umd6o0000001689684928948&qH=704ad81f91ab730e\n",
      "https://www.flipkart.com/realme-c55-rainy-night-64-gb/p/itm054283d14c56e?pid=MOBGNBYJVHS63AAY&lid=LSTMOBGNBYJVHS63AAY2TVRIY&marketplace=FLIPKART&q=realme6&store=tyy%2F4io&srno=s_1_12&otracker=search&fm=organic&iid=9fc4fa59-1212-4f80-b8da-121f1090f8e0.MOBGNBYJVHS63AAY.SEARCH&ppt=None&ppn=None&ssid=fy6d1umd6o0000001689684928948&qH=704ad81f91ab730e\n",
      "https://www.flipkart.com/realme-c55-sunshower-64-gb/p/itm054283d14c56e?pid=MOBGNBYJDJ5YBVGQ&lid=LSTMOBGNBYJDJ5YBVGQ8JESXS&marketplace=FLIPKART&q=realme6&store=tyy%2F4io&srno=s_1_13&otracker=search&fm=organic&iid=9fc4fa59-1212-4f80-b8da-121f1090f8e0.MOBGNBYJDJ5YBVGQ.SEARCH&ppt=None&ppn=None&ssid=fy6d1umd6o0000001689684928948&qH=704ad81f91ab730e\n",
      "https://www.flipkart.com/realme-c55-rainy-night-128-gb/p/itm054283d14c56e?pid=MOBGNBYJZJEHR4QN&lid=LSTMOBGNBYJZJEHR4QNO7O0KI&marketplace=FLIPKART&q=realme6&store=tyy%2F4io&srno=s_1_14&otracker=search&fm=organic&iid=9fc4fa59-1212-4f80-b8da-121f1090f8e0.MOBGNBYJZJEHR4QN.SEARCH&ppt=None&ppn=None&ssid=fy6d1umd6o0000001689684928948&qH=704ad81f91ab730e\n",
      "https://www.flipkart.com/realme-10-pro-5g-dark-matter-128-gb/p/itm1e672d12a252e?pid=MOBGK8VHZGEEGXFR&lid=LSTMOBGK8VHZGEEGXFRIWIE6H&marketplace=FLIPKART&q=realme6&store=tyy%2F4io&srno=s_1_15&otracker=search&fm=organic&iid=9fc4fa59-1212-4f80-b8da-121f1090f8e0.MOBGK8VHZGEEGXFR.SEARCH&ppt=None&ppn=None&ssid=fy6d1umd6o0000001689684928948&qH=704ad81f91ab730e\n",
      "https://www.flipkart.com/realme-10-pro-5g-hyperspace-128-gb/p/itm1e672d12a252e?pid=MOBGK8VHZPVGJCES&lid=LSTMOBGK8VHZPVGJCES9YRIWN&marketplace=FLIPKART&q=realme6&store=tyy%2F4io&srno=s_1_16&otracker=search&fm=organic&iid=9fc4fa59-1212-4f80-b8da-121f1090f8e0.MOBGK8VHZPVGJCES.SEARCH&ppt=None&ppn=None&ssid=fy6d1umd6o0000001689684928948&qH=704ad81f91ab730e\n",
      "https://www.flipkart.com/realme-10-pro-5g-nebula-blue-128-gb/p/itm1e672d12a252e?pid=MOBGK8VHHFY5VCAY&lid=LSTMOBGK8VHHFY5VCAYOXEXVI&marketplace=FLIPKART&q=realme6&store=tyy%2F4io&srno=s_1_17&otracker=search&fm=organic&iid=9fc4fa59-1212-4f80-b8da-121f1090f8e0.MOBGK8VHHFY5VCAY.SEARCH&ppt=None&ppn=None&ssid=fy6d1umd6o0000001689684928948&qH=704ad81f91ab730e\n",
      "https://www.flipkart.com/realme-10-pro-5g-dark-matter-128-gb/p/itm1e672d12a252e?pid=MOBGK8VHWBRKYFJD&lid=LSTMOBGK8VHWBRKYFJDTEBOFU&marketplace=FLIPKART&q=realme6&store=tyy%2F4io&srno=s_1_18&otracker=search&fm=organic&iid=9fc4fa59-1212-4f80-b8da-121f1090f8e0.MOBGK8VHWBRKYFJD.SEARCH&ppt=None&ppn=None&ssid=fy6d1umd6o0000001689684928948&qH=704ad81f91ab730e\n",
      "https://www.flipkart.com/realme-10-pro-5g-nebula-blue-128-gb/p/itm1e672d12a252e?pid=MOBGK8VHX6FDJPCE&lid=LSTMOBGK8VHX6FDJPCEW9XIEE&marketplace=FLIPKART&q=realme6&store=tyy%2F4io&srno=s_1_19&otracker=search&fm=organic&iid=9fc4fa59-1212-4f80-b8da-121f1090f8e0.MOBGK8VHX6FDJPCE.SEARCH&ppt=None&ppn=None&ssid=fy6d1umd6o0000001689684928948&qH=704ad81f91ab730e\n",
      "https://www.flipkart.com/realme-10-pro-5g-hyperspace-128-gb/p/itm1e672d12a252e?pid=MOBGK8VHECUBAZFA&lid=LSTMOBGK8VHECUBAZFAHCVWJ7&marketplace=FLIPKART&q=realme6&store=tyy%2F4io&srno=s_1_20&otracker=search&fm=organic&iid=9fc4fa59-1212-4f80-b8da-121f1090f8e0.MOBGK8VHECUBAZFA.SEARCH&ppt=None&ppn=None&ssid=fy6d1umd6o0000001689684928948&qH=704ad81f91ab730e\n",
      "https://www.flipkart.com/realme-c31-dark-green-32-gb/p/itme0f2960da9bbb?pid=MOBGCGVAXYT3EGYR&lid=LSTMOBGCGVAXYT3EGYRIB8O11&marketplace=FLIPKART&q=realme6&store=tyy%2F4io&srno=s_1_21&otracker=search&fm=organic&iid=9fc4fa59-1212-4f80-b8da-121f1090f8e0.MOBGCGVAXYT3EGYR.SEARCH&ppt=None&ppn=None&ssid=fy6d1umd6o0000001689684928948&qH=704ad81f91ab730e\n",
      "https://www.flipkart.com/realme-gt-2-steel-black-128-gb/p/itmac4c08a9eb2da?pid=MOBGDAT7ATJAFSXZ&lid=LSTMOBGDAT7ATJAFSXZYNJKAX&marketplace=FLIPKART&q=realme6&store=tyy%2F4io&srno=s_1_22&otracker=search&fm=organic&iid=9fc4fa59-1212-4f80-b8da-121f1090f8e0.MOBGDAT7ATJAFSXZ.SEARCH&ppt=None&ppn=None&ssid=fy6d1umd6o0000001689684928948&qH=704ad81f91ab730e\n",
      "https://www.flipkart.com/realme-gt-2-paper-white-128-gb/p/itmac4c08a9eb2da?pid=MOBGDAT7JZRCGFMB&lid=LSTMOBGDAT7JZRCGFMBS0CG8S&marketplace=FLIPKART&q=realme6&store=tyy%2F4io&srno=s_1_23&otracker=search&fm=organic&iid=9fc4fa59-1212-4f80-b8da-121f1090f8e0.MOBGDAT7JZRCGFMB.SEARCH&ppt=None&ppn=None&ssid=fy6d1umd6o0000001689684928948&qH=704ad81f91ab730e\n",
      "https://www.flipkart.com/realme-c31-light-silver-32-gb/p/itme0f2960da9bbb?pid=MOBGCGVA3DANQNQH&lid=LSTMOBGCGVA3DANQNQHPKNMV9&marketplace=FLIPKART&q=realme6&store=tyy%2F4io&srno=s_1_24&otracker=search&fm=organic&iid=9fc4fa59-1212-4f80-b8da-121f1090f8e0.MOBGCGVA3DANQNQH.SEARCH&ppt=None&ppn=None&ssid=fy6d1umd6o0000001689684928948&qH=704ad81f91ab730e\n"
     ]
    },
    {
     "ename": "AttributeError",
     "evalue": "'NoneType' object has no attribute 'a'",
     "output_type": "error",
     "traceback": [
      "\u001b[0;31m---------------------------------------------------------------------------\u001b[0m",
      "\u001b[0;31mAttributeError\u001b[0m                            Traceback (most recent call last)",
      "Cell \u001b[0;32mIn[77], line 2\u001b[0m\n\u001b[1;32m      1\u001b[0m \u001b[38;5;28;01mfor\u001b[39;00m i \u001b[38;5;129;01min\u001b[39;00m bigbox:\n\u001b[0;32m----> 2\u001b[0m     \u001b[38;5;28mprint\u001b[39m(\u001b[38;5;124m\"\u001b[39m\u001b[38;5;124mhttps://www.flipkart.com\u001b[39m\u001b[38;5;124m\"\u001b[39m\u001b[38;5;241m+\u001b[39m\u001b[43mi\u001b[49m\u001b[38;5;241;43m.\u001b[39;49m\u001b[43mdiv\u001b[49m\u001b[38;5;241;43m.\u001b[39;49m\u001b[43mdiv\u001b[49m\u001b[38;5;241;43m.\u001b[39;49m\u001b[43mdiv\u001b[49m\u001b[38;5;241;43m.\u001b[39;49m\u001b[43ma\u001b[49m[\u001b[38;5;124m'\u001b[39m\u001b[38;5;124mhref\u001b[39m\u001b[38;5;124m'\u001b[39m])\n",
      "\u001b[0;31mAttributeError\u001b[0m: 'NoneType' object has no attribute 'a'"
     ]
    }
   ],
   "source": [
    "for i in bigbox:\n",
    "    print(\"https://www.flipkart.com\"+i.div.div.div.a['href'])\n"
   ]
  },
  {
   "cell_type": "code",
   "execution_count": null,
   "id": "87a2bb83-465e-4478-8d1a-b76a08ababd7",
   "metadata": {},
   "outputs": [],
   "source": []
  },
  {
   "cell_type": "code",
   "execution_count": null,
   "id": "fbdb219d-70c7-44fe-be25-4ecba3dcbaee",
   "metadata": {},
   "outputs": [],
   "source": []
  }
 ],
 "metadata": {
  "kernelspec": {
   "display_name": "Python 3 (ipykernel)",
   "language": "python",
   "name": "python3"
  },
  "language_info": {
   "codemirror_mode": {
    "name": "ipython",
    "version": 3
   },
   "file_extension": ".py",
   "mimetype": "text/x-python",
   "name": "python",
   "nbconvert_exporter": "python",
   "pygments_lexer": "ipython3",
   "version": "3.10.8"
  }
 },
 "nbformat": 4,
 "nbformat_minor": 5
}
