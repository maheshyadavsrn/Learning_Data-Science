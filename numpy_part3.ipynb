{
 "cells": [
  {
   "cell_type": "code",
   "execution_count": 1,
   "id": "191524ec-515e-4561-aae7-b137d321b976",
   "metadata": {},
   "outputs": [],
   "source": [
    "#Sort,Search & Counting Functions"
   ]
  },
  {
   "cell_type": "code",
   "execution_count": 6,
   "id": "d0a15cb6-63d1-4d47-84a4-bb5ad7fb9cc6",
   "metadata": {},
   "outputs": [],
   "source": [
    "import numpy as np"
   ]
  },
  {
   "cell_type": "code",
   "execution_count": 7,
   "id": "0876c961-e56d-4f3e-84f1-c12c3bc484b2",
   "metadata": {},
   "outputs": [],
   "source": [
    "arr=np.array([4,3,2,5,644,66,7,777])"
   ]
  },
  {
   "cell_type": "code",
   "execution_count": 8,
   "id": "c5ec48f5-9406-4f2f-a051-f2b14d0a9715",
   "metadata": {},
   "outputs": [
    {
     "data": {
      "text/plain": [
       "array([  4,   3,   2,   5, 644,  66,   7, 777])"
      ]
     },
     "execution_count": 8,
     "metadata": {},
     "output_type": "execute_result"
    }
   ],
   "source": [
    "arr"
   ]
  },
  {
   "cell_type": "code",
   "execution_count": 9,
   "id": "a632f063-d20b-4195-bf1f-b74b09d8b57e",
   "metadata": {},
   "outputs": [
    {
     "data": {
      "text/plain": [
       "array([  2,   3,   4,   5,   7,  66, 644, 777])"
      ]
     },
     "execution_count": 9,
     "metadata": {},
     "output_type": "execute_result"
    }
   ],
   "source": [
    "np.sort(arr)"
   ]
  },
  {
   "cell_type": "code",
   "execution_count": 11,
   "id": "ca3c9a6d-872a-40d7-a5bb-efcae40123fc",
   "metadata": {},
   "outputs": [
    {
     "data": {
      "text/plain": [
       "4"
      ]
     },
     "execution_count": 11,
     "metadata": {},
     "output_type": "execute_result"
    }
   ],
   "source": [
    "np.searchsorted(arr,24)"
   ]
  },
  {
   "cell_type": "code",
   "execution_count": 12,
   "id": "ef25a109-c9d8-450c-8d2c-7a8ad440347f",
   "metadata": {},
   "outputs": [],
   "source": [
    "arr1=np.array([0,345,0,0,0,32])"
   ]
  },
  {
   "cell_type": "code",
   "execution_count": 13,
   "id": "17e700d8-7802-4ce1-8769-b54bbba06756",
   "metadata": {},
   "outputs": [
    {
     "data": {
      "text/plain": [
       "array([  0, 345,   0,   0,   0,  32])"
      ]
     },
     "execution_count": 13,
     "metadata": {},
     "output_type": "execute_result"
    }
   ],
   "source": [
    "arr1"
   ]
  },
  {
   "cell_type": "code",
   "execution_count": 14,
   "id": "54ea5d85-3d25-4772-8dd0-8bf5d7da634d",
   "metadata": {},
   "outputs": [
    {
     "data": {
      "text/plain": [
       "2"
      ]
     },
     "execution_count": 14,
     "metadata": {},
     "output_type": "execute_result"
    }
   ],
   "source": [
    "np.count_nonzero(arr1)"
   ]
  },
  {
   "cell_type": "code",
   "execution_count": 15,
   "id": "ead922e6-8cf6-4dad-af41-2b7b05922cb3",
   "metadata": {},
   "outputs": [
    {
     "data": {
      "text/plain": [
       "array([  4,   3,   2,   5, 644,  66,   7, 777])"
      ]
     },
     "execution_count": 15,
     "metadata": {},
     "output_type": "execute_result"
    }
   ],
   "source": [
    "arr"
   ]
  },
  {
   "cell_type": "code",
   "execution_count": 16,
   "id": "ecedf8d4-d121-4345-9367-52bbc332ee3d",
   "metadata": {},
   "outputs": [
    {
     "data": {
      "text/plain": [
       "(array([4, 5, 6, 7]),)"
      ]
     },
     "execution_count": 16,
     "metadata": {},
     "output_type": "execute_result"
    }
   ],
   "source": [
    "np.where(arr>6)"
   ]
  },
  {
   "cell_type": "code",
   "execution_count": 17,
   "id": "12eb4009-3d45-4a5c-850d-fb9dddf639d2",
   "metadata": {},
   "outputs": [
    {
     "data": {
      "text/plain": [
       "array([644,  66,   7, 777])"
      ]
     },
     "execution_count": 17,
     "metadata": {},
     "output_type": "execute_result"
    }
   ],
   "source": [
    "np.extract(arr>6,arr)"
   ]
  },
  {
   "cell_type": "code",
   "execution_count": 18,
   "id": "d2317811-aaca-41b9-807d-96e088512b43",
   "metadata": {},
   "outputs": [
    {
     "data": {
      "text/plain": [
       "array([  4,   3,   2,   5, 644,  66,   7, 777])"
      ]
     },
     "execution_count": 18,
     "metadata": {},
     "output_type": "execute_result"
    }
   ],
   "source": [
    "arr"
   ]
  },
  {
   "cell_type": "code",
   "execution_count": 19,
   "id": "8b391d8f-b5d3-4f1e-aec3-cb73d46ef6b5",
   "metadata": {},
   "outputs": [
    {
     "data": {
      "text/plain": [
       "array([  288230376151711744,   216172782113783808,   144115188075855872,\n",
       "         360287970189639680, -8934578710749642752,  4755801206503243776,\n",
       "         504403158265495552,   649362771271483392])"
      ]
     },
     "execution_count": 19,
     "metadata": {},
     "output_type": "execute_result"
    }
   ],
   "source": [
    "arr.byteswap()"
   ]
  },
  {
   "cell_type": "code",
   "execution_count": 20,
   "id": "6a385772-d1fc-45e2-a809-d0321eff8259",
   "metadata": {},
   "outputs": [],
   "source": [
    "#copies & views"
   ]
  },
  {
   "cell_type": "code",
   "execution_count": 21,
   "id": "93e0a201-38b7-4d19-a6b3-e9ea945668c9",
   "metadata": {},
   "outputs": [
    {
     "data": {
      "text/plain": [
       "array([  4,   3,   2,   5, 644,  66,   7, 777])"
      ]
     },
     "execution_count": 21,
     "metadata": {},
     "output_type": "execute_result"
    }
   ],
   "source": [
    "arr"
   ]
  },
  {
   "cell_type": "code",
   "execution_count": 22,
   "id": "c55f9682-a814-476d-bea0-083503f109d1",
   "metadata": {},
   "outputs": [],
   "source": [
    "a=np.copy(arr)"
   ]
  },
  {
   "cell_type": "code",
   "execution_count": 23,
   "id": "9e1fe131-b522-4558-9c93-a80e131702ca",
   "metadata": {},
   "outputs": [
    {
     "data": {
      "text/plain": [
       "array([  4,   3,   2,   5, 644,  66,   7, 777])"
      ]
     },
     "execution_count": 23,
     "metadata": {},
     "output_type": "execute_result"
    }
   ],
   "source": [
    "a"
   ]
  },
  {
   "cell_type": "code",
   "execution_count": 24,
   "id": "09a63ec3-943c-48ee-8815-c3cde4915692",
   "metadata": {},
   "outputs": [],
   "source": [
    "b=arr.view()"
   ]
  },
  {
   "cell_type": "code",
   "execution_count": 25,
   "id": "0f0086f9-45f1-4a65-996c-4b30184d791e",
   "metadata": {},
   "outputs": [
    {
     "data": {
      "text/plain": [
       "array([  4,   3,   2,   5, 644,  66,   7, 777])"
      ]
     },
     "execution_count": 25,
     "metadata": {},
     "output_type": "execute_result"
    }
   ],
   "source": [
    "b"
   ]
  },
  {
   "cell_type": "code",
   "execution_count": 26,
   "id": "650405aa-4664-4043-ad00-71ac2c8d9788",
   "metadata": {},
   "outputs": [
    {
     "data": {
      "text/plain": [
       "array([  4,   3,   2,   5, 644,  66,   7, 777])"
      ]
     },
     "execution_count": 26,
     "metadata": {},
     "output_type": "execute_result"
    }
   ],
   "source": [
    "arr"
   ]
  },
  {
   "cell_type": "code",
   "execution_count": 27,
   "id": "4e8176bc-3870-499e-b512-0b9f1d211e8c",
   "metadata": {},
   "outputs": [],
   "source": [
    "b[0]=88"
   ]
  },
  {
   "cell_type": "code",
   "execution_count": 28,
   "id": "e0c0b4b2-25a1-4ca1-a58f-0d2787723b43",
   "metadata": {},
   "outputs": [
    {
     "data": {
      "text/plain": [
       "array([ 88,   3,   2,   5, 644,  66,   7, 777])"
      ]
     },
     "execution_count": 28,
     "metadata": {},
     "output_type": "execute_result"
    }
   ],
   "source": [
    "b"
   ]
  },
  {
   "cell_type": "code",
   "execution_count": 29,
   "id": "81ecd304-82ef-42a1-b1b0-c68ddf305bbf",
   "metadata": {},
   "outputs": [],
   "source": [
    "b[2]=100"
   ]
  },
  {
   "cell_type": "code",
   "execution_count": 30,
   "id": "21e51d44-cc01-4781-ba84-4fe48e46c6c1",
   "metadata": {},
   "outputs": [
    {
     "data": {
      "text/plain": [
       "array([ 88,   3, 100,   5, 644,  66,   7, 777])"
      ]
     },
     "execution_count": 30,
     "metadata": {},
     "output_type": "execute_result"
    }
   ],
   "source": [
    "b"
   ]
  },
  {
   "cell_type": "code",
   "execution_count": 31,
   "id": "23999b61-33b2-4118-a811-41c127534cd0",
   "metadata": {},
   "outputs": [],
   "source": [
    "# Matrix Libary"
   ]
  },
  {
   "cell_type": "code",
   "execution_count": 32,
   "id": "88204f59-d269-4a3f-b19d-406049640b99",
   "metadata": {},
   "outputs": [],
   "source": [
    "import numpy.matlib as nm"
   ]
  },
  {
   "cell_type": "code",
   "execution_count": 33,
   "id": "085b267b-5f2d-46cc-a6d7-ef49b008d563",
   "metadata": {},
   "outputs": [
    {
     "data": {
      "text/plain": [
       "matrix([[0., 0., 0., 0., 0.]])"
      ]
     },
     "execution_count": 33,
     "metadata": {},
     "output_type": "execute_result"
    }
   ],
   "source": [
    "nm.zeros(5)"
   ]
  },
  {
   "cell_type": "code",
   "execution_count": 34,
   "id": "b3183dda-c5a8-4087-98f9-0ed5a463e20c",
   "metadata": {},
   "outputs": [
    {
     "data": {
      "text/plain": [
       "matrix([[1., 1., 1., 1.],\n",
       "        [1., 1., 1., 1.],\n",
       "        [1., 1., 1., 1.]])"
      ]
     },
     "execution_count": 34,
     "metadata": {},
     "output_type": "execute_result"
    }
   ],
   "source": [
    "nm.ones((3,4))"
   ]
  },
  {
   "cell_type": "code",
   "execution_count": 35,
   "id": "3cd7833a-2405-4376-aa17-a0435a11a5a6",
   "metadata": {},
   "outputs": [
    {
     "data": {
      "text/plain": [
       "matrix([[1., 0., 0., 0., 0.],\n",
       "        [0., 1., 0., 0., 0.],\n",
       "        [0., 0., 1., 0., 0.],\n",
       "        [0., 0., 0., 1., 0.],\n",
       "        [0., 0., 0., 0., 1.]])"
      ]
     },
     "execution_count": 35,
     "metadata": {},
     "output_type": "execute_result"
    }
   ],
   "source": [
    "nm.eye(5)"
   ]
  },
  {
   "cell_type": "code",
   "execution_count": 36,
   "id": "93e50b80-b603-43d5-91d4-06df62502285",
   "metadata": {},
   "outputs": [],
   "source": [
    "#Liner Algebra"
   ]
  },
  {
   "cell_type": "code",
   "execution_count": 37,
   "id": "7e69f57d-bd15-4171-8aec-a5aa30de549f",
   "metadata": {},
   "outputs": [],
   "source": [
    "arr1=np.random.randint([[2,3],[4,5]])"
   ]
  },
  {
   "cell_type": "code",
   "execution_count": 39,
   "id": "eab5aec2-db96-48d5-898f-32102c5df092",
   "metadata": {},
   "outputs": [],
   "source": [
    "arr2=np.random.randint([[5,3],[2,5]])"
   ]
  },
  {
   "cell_type": "code",
   "execution_count": 40,
   "id": "c8ba57cd-6634-476d-b264-fa2e2aa74f90",
   "metadata": {},
   "outputs": [
    {
     "data": {
      "text/plain": [
       "array([[4, 6],\n",
       "       [0, 4]])"
      ]
     },
     "execution_count": 40,
     "metadata": {},
     "output_type": "execute_result"
    }
   ],
   "source": [
    "np.dot(arr1,arr2)"
   ]
  },
  {
   "cell_type": "code",
   "execution_count": 41,
   "id": "a085af78-56ec-47c3-a5bb-b25cfaadcb31",
   "metadata": {},
   "outputs": [
    {
     "data": {
      "text/plain": [
       "array([[4, 6],\n",
       "       [0, 4]])"
      ]
     },
     "execution_count": 41,
     "metadata": {},
     "output_type": "execute_result"
    }
   ],
   "source": [
    "arr1@arr2"
   ]
  },
  {
   "cell_type": "code",
   "execution_count": null,
   "id": "3e0acb98-76c7-465f-a10b-e5b2a7f5f513",
   "metadata": {},
   "outputs": [],
   "source": []
  }
 ],
 "metadata": {
  "kernelspec": {
   "display_name": "Python 3 (ipykernel)",
   "language": "python",
   "name": "python3"
  },
  "language_info": {
   "codemirror_mode": {
    "name": "ipython",
    "version": 3
   },
   "file_extension": ".py",
   "mimetype": "text/x-python",
   "name": "python",
   "nbconvert_exporter": "python",
   "pygments_lexer": "ipython3",
   "version": "3.10.8"
  }
 },
 "nbformat": 4,
 "nbformat_minor": 5
}
