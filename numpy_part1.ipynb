{
 "cells": [
  {
   "cell_type": "code",
   "execution_count": 2,
   "id": "78196abd-13bf-4440-a25f-e7ea2d2ddc17",
   "metadata": {},
   "outputs": [],
   "source": [
    "import numpy as np"
   ]
  },
  {
   "cell_type": "code",
   "execution_count": 3,
   "id": "49675226-b49a-409b-ab94-ea4380f18e52",
   "metadata": {},
   "outputs": [],
   "source": [
    "l=[1,2,3,4]"
   ]
  },
  {
   "cell_type": "code",
   "execution_count": 4,
   "id": "c818cb0f-1d25-4ffb-9b2e-e9ee1d2be6d9",
   "metadata": {},
   "outputs": [],
   "source": [
    "ar=np.array(l)"
   ]
  },
  {
   "cell_type": "code",
   "execution_count": 5,
   "id": "6b4e5187-e7f8-4bf8-b49a-ca04eb66e249",
   "metadata": {},
   "outputs": [
    {
     "data": {
      "text/plain": [
       "array([1, 2, 3, 4])"
      ]
     },
     "execution_count": 5,
     "metadata": {},
     "output_type": "execute_result"
    }
   ],
   "source": [
    "ar"
   ]
  },
  {
   "cell_type": "code",
   "execution_count": 6,
   "id": "3eee83e6-b6c4-4afb-bd99-3cc9aec2190c",
   "metadata": {},
   "outputs": [
    {
     "data": {
      "text/plain": [
       "numpy.ndarray"
      ]
     },
     "execution_count": 6,
     "metadata": {},
     "output_type": "execute_result"
    }
   ],
   "source": [
    "type(ar)"
   ]
  },
  {
   "cell_type": "code",
   "execution_count": 7,
   "id": "42320944-58c0-41ac-9d0b-35624ba8f42a",
   "metadata": {},
   "outputs": [
    {
     "name": "stderr",
     "output_type": "stream",
     "text": [
      "/tmp/ipykernel_84/964258125.py:1: VisibleDeprecationWarning: Creating an ndarray from ragged nested sequences (which is a list-or-tuple of lists-or-tuples-or ndarrays with different lengths or shapes) is deprecated. If you meant to do this, you must specify 'dtype=object' when creating the ndarray.\n",
      "  np.array([[1,2,3],[4,3]])\n"
     ]
    },
    {
     "data": {
      "text/plain": [
       "array([list([1, 2, 3]), list([4, 3])], dtype=object)"
      ]
     },
     "execution_count": 7,
     "metadata": {},
     "output_type": "execute_result"
    }
   ],
   "source": [
    "np.array([[1,2,3],[4,3]])"
   ]
  },
  {
   "cell_type": "code",
   "execution_count": 8,
   "id": "bfe00c82-53d1-448f-9fe1-734a2517964c",
   "metadata": {},
   "outputs": [
    {
     "data": {
      "text/plain": [
       "array([1, 2, 3, 4])"
      ]
     },
     "execution_count": 8,
     "metadata": {},
     "output_type": "execute_result"
    }
   ],
   "source": [
    "np.asarray(l)"
   ]
  },
  {
   "cell_type": "code",
   "execution_count": 9,
   "id": "e16aeb95-59f5-4f4b-8d1a-c67a8d01d69e",
   "metadata": {},
   "outputs": [],
   "source": [
    "a=[2,3,4]"
   ]
  },
  {
   "cell_type": "code",
   "execution_count": 10,
   "id": "67004534-f446-4105-97d2-4b0fd36ba711",
   "metadata": {},
   "outputs": [
    {
     "data": {
      "text/plain": [
       "array([2, 3, 4])"
      ]
     },
     "execution_count": 10,
     "metadata": {},
     "output_type": "execute_result"
    }
   ],
   "source": [
    "np.asanyarray(a)"
   ]
  },
  {
   "cell_type": "code",
   "execution_count": 11,
   "id": "4609eefb-a319-4618-9593-b7bc0e854d72",
   "metadata": {},
   "outputs": [],
   "source": [
    "b=np.matrix(l)"
   ]
  },
  {
   "cell_type": "code",
   "execution_count": 12,
   "id": "5544d273-60fb-4392-9ae7-9f3f9279e501",
   "metadata": {},
   "outputs": [
    {
     "data": {
      "text/plain": [
       "matrix([[1, 2, 3, 4]])"
      ]
     },
     "execution_count": 12,
     "metadata": {},
     "output_type": "execute_result"
    }
   ],
   "source": [
    "b"
   ]
  },
  {
   "cell_type": "code",
   "execution_count": 13,
   "id": "2c86a634-0009-4f1d-9509-8afe5f27e025",
   "metadata": {},
   "outputs": [],
   "source": [
    "a=np.array(l)"
   ]
  },
  {
   "cell_type": "code",
   "execution_count": 14,
   "id": "e40bb161-9b30-4d28-9fb1-82e43392b2b7",
   "metadata": {},
   "outputs": [
    {
     "data": {
      "text/plain": [
       "array([1, 2, 3, 4])"
      ]
     },
     "execution_count": 14,
     "metadata": {},
     "output_type": "execute_result"
    }
   ],
   "source": [
    "a"
   ]
  },
  {
   "cell_type": "code",
   "execution_count": 15,
   "id": "a00d8d18-5811-4f9c-8bd6-22b8d89d9447",
   "metadata": {},
   "outputs": [],
   "source": [
    "c=a"
   ]
  },
  {
   "cell_type": "code",
   "execution_count": 16,
   "id": "a1ee3b23-fa4a-4651-b08f-4bf0dbd77d78",
   "metadata": {},
   "outputs": [
    {
     "data": {
      "text/plain": [
       "array([1, 2, 3, 4])"
      ]
     },
     "execution_count": 16,
     "metadata": {},
     "output_type": "execute_result"
    }
   ],
   "source": [
    "c"
   ]
  },
  {
   "cell_type": "code",
   "execution_count": 17,
   "id": "09a5855e-158a-4d9e-ae44-3c2f216d48c6",
   "metadata": {},
   "outputs": [],
   "source": [
    "c[0]=100"
   ]
  },
  {
   "cell_type": "code",
   "execution_count": 18,
   "id": "84009b11-742c-4775-99ab-ff099ac4c286",
   "metadata": {},
   "outputs": [
    {
     "data": {
      "text/plain": [
       "array([100,   2,   3,   4])"
      ]
     },
     "execution_count": 18,
     "metadata": {},
     "output_type": "execute_result"
    }
   ],
   "source": [
    "c"
   ]
  },
  {
   "cell_type": "code",
   "execution_count": 19,
   "id": "549579a0-02e9-4502-a38e-865df2257cd2",
   "metadata": {},
   "outputs": [
    {
     "data": {
      "text/plain": [
       "array([100,   2,   3,   4])"
      ]
     },
     "execution_count": 19,
     "metadata": {},
     "output_type": "execute_result"
    }
   ],
   "source": [
    "a"
   ]
  },
  {
   "cell_type": "code",
   "execution_count": 20,
   "id": "a9223b4b-8ce0-4c2c-a464-a1747b73b023",
   "metadata": {},
   "outputs": [],
   "source": [
    "d=np.copy(a)"
   ]
  },
  {
   "cell_type": "code",
   "execution_count": 21,
   "id": "f1f30020-6876-4ce9-b8f4-c6bf1ce766aa",
   "metadata": {},
   "outputs": [
    {
     "data": {
      "text/plain": [
       "array([100,   2,   3,   4])"
      ]
     },
     "execution_count": 21,
     "metadata": {},
     "output_type": "execute_result"
    }
   ],
   "source": [
    "d"
   ]
  },
  {
   "cell_type": "code",
   "execution_count": 22,
   "id": "0742c63f-1687-47a7-9e5b-b4bee7bf65b1",
   "metadata": {},
   "outputs": [],
   "source": [
    "a[1]=500"
   ]
  },
  {
   "cell_type": "code",
   "execution_count": 23,
   "id": "d68f06b8-7fb4-48ed-9fbb-240336c00894",
   "metadata": {},
   "outputs": [
    {
     "data": {
      "text/plain": [
       "array([100, 500,   3,   4])"
      ]
     },
     "execution_count": 23,
     "metadata": {},
     "output_type": "execute_result"
    }
   ],
   "source": [
    "a"
   ]
  },
  {
   "cell_type": "code",
   "execution_count": 24,
   "id": "1c013082-4343-4cd6-bc79-01ea057f2a83",
   "metadata": {},
   "outputs": [
    {
     "data": {
      "text/plain": [
       "array([100,   2,   3,   4])"
      ]
     },
     "execution_count": 24,
     "metadata": {},
     "output_type": "execute_result"
    }
   ],
   "source": [
    "d"
   ]
  },
  {
   "cell_type": "code",
   "execution_count": 25,
   "id": "1f14b83f-0c31-4643-a908-2a5fe0c886af",
   "metadata": {},
   "outputs": [
    {
     "data": {
      "text/plain": [
       "array([100, 500,   3,   4])"
      ]
     },
     "execution_count": 25,
     "metadata": {},
     "output_type": "execute_result"
    }
   ],
   "source": [
    "c"
   ]
  },
  {
   "cell_type": "code",
   "execution_count": 26,
   "id": "206c3ae7-9099-4ddf-b162-922574d4c644",
   "metadata": {},
   "outputs": [
    {
     "data": {
      "text/plain": [
       "array([[ True, False, False],\n",
       "       [False,  True, False],\n",
       "       [False, False,  True]])"
      ]
     },
     "execution_count": 26,
     "metadata": {},
     "output_type": "execute_result"
    }
   ],
   "source": [
    "np.fromfunction(lambda i,j : i==j,(3,3))"
   ]
  },
  {
   "cell_type": "code",
   "execution_count": 27,
   "id": "a4c9b2ef-ba9f-4c52-a4db-54a48983b526",
   "metadata": {},
   "outputs": [
    {
     "data": {
      "text/plain": [
       "array([[0., 0., 0.],\n",
       "       [0., 1., 2.],\n",
       "       [0., 2., 4.]])"
      ]
     },
     "execution_count": 27,
     "metadata": {},
     "output_type": "execute_result"
    }
   ],
   "source": [
    "np.fromfunction(lambda i,j : i*j,(3,3))"
   ]
  },
  {
   "cell_type": "code",
   "execution_count": 28,
   "id": "51a328cc-1154-4fbb-b81e-45144378f49b",
   "metadata": {},
   "outputs": [],
   "source": [
    "iterable=(i*i for i in range(5))"
   ]
  },
  {
   "cell_type": "code",
   "execution_count": 29,
   "id": "45bd03d3-7640-40b4-9b71-781bc47970e1",
   "metadata": {},
   "outputs": [
    {
     "data": {
      "text/plain": [
       "array([ 0.,  1.,  4.,  9., 16.])"
      ]
     },
     "execution_count": 29,
     "metadata": {},
     "output_type": "execute_result"
    }
   ],
   "source": [
    "np.fromiter(iterable,float)"
   ]
  },
  {
   "cell_type": "code",
   "execution_count": 30,
   "id": "cfb52af4-be86-4c86-8109-e2b8dad6caa9",
   "metadata": {},
   "outputs": [
    {
     "data": {
      "text/plain": [
       "array([234., 442.])"
      ]
     },
     "execution_count": 30,
     "metadata": {},
     "output_type": "execute_result"
    }
   ],
   "source": [
    "np.fromstring('234 442',sep=' ')"
   ]
  },
  {
   "cell_type": "code",
   "execution_count": 31,
   "id": "5f1453f3-328c-4f3c-adb7-905432b2043b",
   "metadata": {},
   "outputs": [
    {
     "data": {
      "text/plain": [
       "array([4., 2.])"
      ]
     },
     "execution_count": 31,
     "metadata": {},
     "output_type": "execute_result"
    }
   ],
   "source": [
    "np.fromstring('4, 2',sep=' ,')"
   ]
  },
  {
   "cell_type": "code",
   "execution_count": 32,
   "id": "ef5b2cdd-9b95-457c-8d01-46298abfb076",
   "metadata": {},
   "outputs": [],
   "source": [
    "#Numpy data type"
   ]
  },
  {
   "cell_type": "code",
   "execution_count": 33,
   "id": "9ea167c3-2a24-4ac8-aaed-7c085fe1b1c6",
   "metadata": {},
   "outputs": [],
   "source": [
    "l=[2,3,4,5,6]"
   ]
  },
  {
   "cell_type": "code",
   "execution_count": 34,
   "id": "fd13f2c9-b4f4-45d8-8f1c-7fde39095d70",
   "metadata": {},
   "outputs": [],
   "source": [
    "ar=np.array(l)"
   ]
  },
  {
   "cell_type": "code",
   "execution_count": 35,
   "id": "ba873be2-3227-4796-8533-c54d1e9f39da",
   "metadata": {},
   "outputs": [
    {
     "data": {
      "text/plain": [
       "array([2, 3, 4, 5, 6])"
      ]
     },
     "execution_count": 35,
     "metadata": {},
     "output_type": "execute_result"
    }
   ],
   "source": [
    "ar"
   ]
  },
  {
   "cell_type": "code",
   "execution_count": 36,
   "id": "70ea0b78-0c96-45d0-9290-9b0a33a78574",
   "metadata": {},
   "outputs": [
    {
     "data": {
      "text/plain": [
       "1"
      ]
     },
     "execution_count": 36,
     "metadata": {},
     "output_type": "execute_result"
    }
   ],
   "source": [
    "ar.ndim"
   ]
  },
  {
   "cell_type": "code",
   "execution_count": 37,
   "id": "e6058026-ae09-4b92-b392-975405168835",
   "metadata": {},
   "outputs": [],
   "source": [
    "ar2 = np.array([[2, 4, 5, 6, 7], [1, 4, 5, 6, 0]])"
   ]
  },
  {
   "cell_type": "code",
   "execution_count": 38,
   "id": "245e381c-e42e-4e79-a771-71296814037a",
   "metadata": {},
   "outputs": [
    {
     "data": {
      "text/plain": [
       "array([[2, 4, 5, 6, 7],\n",
       "       [1, 4, 5, 6, 0]])"
      ]
     },
     "execution_count": 38,
     "metadata": {},
     "output_type": "execute_result"
    }
   ],
   "source": [
    "ar2"
   ]
  },
  {
   "cell_type": "code",
   "execution_count": 39,
   "id": "0651ec73-6c9f-4c96-a9ea-e5ab0459f70b",
   "metadata": {},
   "outputs": [
    {
     "data": {
      "text/plain": [
       "2"
      ]
     },
     "execution_count": 39,
     "metadata": {},
     "output_type": "execute_result"
    }
   ],
   "source": [
    "ar2.ndim"
   ]
  },
  {
   "cell_type": "code",
   "execution_count": 40,
   "id": "2ae40ef1-a142-4532-828a-2b7756382d90",
   "metadata": {},
   "outputs": [
    {
     "data": {
      "text/plain": [
       "5"
      ]
     },
     "execution_count": 40,
     "metadata": {},
     "output_type": "execute_result"
    }
   ],
   "source": [
    "ar.size"
   ]
  },
  {
   "cell_type": "code",
   "execution_count": 41,
   "id": "20867954-81a6-407c-b9fe-5f4065ddbdde",
   "metadata": {},
   "outputs": [
    {
     "data": {
      "text/plain": [
       "10"
      ]
     },
     "execution_count": 41,
     "metadata": {},
     "output_type": "execute_result"
    }
   ],
   "source": [
    "ar2.size"
   ]
  },
  {
   "cell_type": "code",
   "execution_count": 42,
   "id": "29cdb008-ea30-4571-946d-e8ff4197569f",
   "metadata": {},
   "outputs": [
    {
     "data": {
      "text/plain": [
       "(5,)"
      ]
     },
     "execution_count": 42,
     "metadata": {},
     "output_type": "execute_result"
    }
   ],
   "source": [
    "ar.shape"
   ]
  },
  {
   "cell_type": "code",
   "execution_count": 43,
   "id": "3c01931d-cab2-427b-a8d5-f344ab7e015a",
   "metadata": {},
   "outputs": [
    {
     "data": {
      "text/plain": [
       "(2, 5)"
      ]
     },
     "execution_count": 43,
     "metadata": {},
     "output_type": "execute_result"
    }
   ],
   "source": [
    "ar2.shape"
   ]
  },
  {
   "cell_type": "code",
   "execution_count": 44,
   "id": "f0fa1700-43ec-4c93-a57b-eba51791d9d1",
   "metadata": {},
   "outputs": [
    {
     "data": {
      "text/plain": [
       "dtype('int64')"
      ]
     },
     "execution_count": 44,
     "metadata": {},
     "output_type": "execute_result"
    }
   ],
   "source": [
    "ar.dtype"
   ]
  },
  {
   "cell_type": "code",
   "execution_count": 45,
   "id": "22543418-0069-4d72-8220-d894907c0caf",
   "metadata": {},
   "outputs": [
    {
     "data": {
      "text/plain": [
       "dtype('int64')"
      ]
     },
     "execution_count": 45,
     "metadata": {},
     "output_type": "execute_result"
    }
   ],
   "source": [
    "ar2.dtype"
   ]
  },
  {
   "cell_type": "code",
   "execution_count": 46,
   "id": "3018de90-9bbf-4cb1-aba3-eb0ad444a60f",
   "metadata": {},
   "outputs": [],
   "source": [
    "ar22 = np.array([(1, 2, 3, 4, 5), (34, 5, 56,0, 6)])"
   ]
  },
  {
   "cell_type": "code",
   "execution_count": 47,
   "id": "cd43f1f9-030b-4d94-8c08-9edddbc780ce",
   "metadata": {},
   "outputs": [
    {
     "data": {
      "text/plain": [
       "array([[ 1,  2,  3,  4,  5],\n",
       "       [34,  5, 56,  0,  6]])"
      ]
     },
     "execution_count": 47,
     "metadata": {},
     "output_type": "execute_result"
    }
   ],
   "source": [
    "ar22"
   ]
  },
  {
   "cell_type": "code",
   "execution_count": 48,
   "id": "362b0d75-8108-46a2-814e-26b0cb6f3db0",
   "metadata": {},
   "outputs": [
    {
     "data": {
      "text/plain": [
       "dtype('int64')"
      ]
     },
     "execution_count": 48,
     "metadata": {},
     "output_type": "execute_result"
    }
   ],
   "source": [
    "ar22.dtype"
   ]
  },
  {
   "cell_type": "code",
   "execution_count": 49,
   "id": "80b00ff8-a3ed-4222-80e2-8d4a02032506",
   "metadata": {},
   "outputs": [
    {
     "data": {
      "text/plain": [
       "[0, 1, 2, 3, 4, 5]"
      ]
     },
     "execution_count": 49,
     "metadata": {},
     "output_type": "execute_result"
    }
   ],
   "source": [
    "list(range(6))"
   ]
  },
  {
   "cell_type": "code",
   "execution_count": 50,
   "id": "438f988c-dc4c-46ec-acde-3b35310e3177",
   "metadata": {},
   "outputs": [
    {
     "data": {
      "text/plain": [
       "array([2.3, 3.3, 4.3, 5.3])"
      ]
     },
     "execution_count": 50,
     "metadata": {},
     "output_type": "execute_result"
    }
   ],
   "source": [
    "np.arange(2.3,5.6)"
   ]
  },
  {
   "cell_type": "code",
   "execution_count": 51,
   "id": "c01d17dd-31f9-4410-bfee-457b34d456c5",
   "metadata": {},
   "outputs": [
    {
     "data": {
      "text/plain": [
       "[2.3,\n",
       " 2.6999999999999997,\n",
       " 3.0999999999999996,\n",
       " 3.4999999999999996,\n",
       " 3.8999999999999995,\n",
       " 4.299999999999999,\n",
       " 4.699999999999999,\n",
       " 5.1,\n",
       " 5.499999999999999]"
      ]
     },
     "execution_count": 51,
     "metadata": {},
     "output_type": "execute_result"
    }
   ],
   "source": [
    "list(np.arange(2.3,5.6,.4))"
   ]
  },
  {
   "cell_type": "code",
   "execution_count": 52,
   "id": "72aec303-4f71-4739-93ed-7e28d3452f2b",
   "metadata": {},
   "outputs": [
    {
     "data": {
      "text/plain": [
       "array([1.        , 1.44444444, 1.88888889, 2.33333333, 2.77777778,\n",
       "       3.22222222, 3.66666667, 4.11111111, 4.55555556, 5.        ])"
      ]
     },
     "execution_count": 52,
     "metadata": {},
     "output_type": "execute_result"
    }
   ],
   "source": [
    "np.linspace(1,5,10)"
   ]
  },
  {
   "cell_type": "code",
   "execution_count": 53,
   "id": "d1387fed-4909-43b2-be89-372705240681",
   "metadata": {},
   "outputs": [
    {
     "data": {
      "text/plain": [
       "array([0., 0., 0., 0., 0.])"
      ]
     },
     "execution_count": 53,
     "metadata": {},
     "output_type": "execute_result"
    }
   ],
   "source": [
    "np.zeros(5)"
   ]
  },
  {
   "cell_type": "code",
   "execution_count": 54,
   "id": "7619275f-7c5f-40db-9654-ebbe3c60ad2e",
   "metadata": {},
   "outputs": [
    {
     "data": {
      "text/plain": [
       "array([[0., 0., 0., 0.],\n",
       "       [0., 0., 0., 0.],\n",
       "       [0., 0., 0., 0.]])"
      ]
     },
     "execution_count": 54,
     "metadata": {},
     "output_type": "execute_result"
    }
   ],
   "source": [
    "np.zeros((3,4))"
   ]
  },
  {
   "cell_type": "code",
   "execution_count": 55,
   "id": "d342e830-68e6-49b8-be26-651ca68f44a7",
   "metadata": {},
   "outputs": [
    {
     "data": {
      "text/plain": [
       "array([[[0., 0.],\n",
       "        [0., 0.],\n",
       "        [0., 0.],\n",
       "        [0., 0.]],\n",
       "\n",
       "       [[0., 0.],\n",
       "        [0., 0.],\n",
       "        [0., 0.],\n",
       "        [0., 0.]],\n",
       "\n",
       "       [[0., 0.],\n",
       "        [0., 0.],\n",
       "        [0., 0.],\n",
       "        [0., 0.]]])"
      ]
     },
     "execution_count": 55,
     "metadata": {},
     "output_type": "execute_result"
    }
   ],
   "source": [
    "np.zeros((3,4,2))"
   ]
  },
  {
   "cell_type": "code",
   "execution_count": 56,
   "id": "31743266-4e1e-41f9-8502-b091fe4393ab",
   "metadata": {},
   "outputs": [
    {
     "data": {
      "text/plain": [
       "array([[[[0., 0.],\n",
       "         [0., 0.],\n",
       "         [0., 0.]],\n",
       "\n",
       "        [[0., 0.],\n",
       "         [0., 0.],\n",
       "         [0., 0.]],\n",
       "\n",
       "        [[0., 0.],\n",
       "         [0., 0.],\n",
       "         [0., 0.]],\n",
       "\n",
       "        [[0., 0.],\n",
       "         [0., 0.],\n",
       "         [0., 0.]]],\n",
       "\n",
       "\n",
       "       [[[0., 0.],\n",
       "         [0., 0.],\n",
       "         [0., 0.]],\n",
       "\n",
       "        [[0., 0.],\n",
       "         [0., 0.],\n",
       "         [0., 0.]],\n",
       "\n",
       "        [[0., 0.],\n",
       "         [0., 0.],\n",
       "         [0., 0.]],\n",
       "\n",
       "        [[0., 0.],\n",
       "         [0., 0.],\n",
       "         [0., 0.]]],\n",
       "\n",
       "\n",
       "       [[[0., 0.],\n",
       "         [0., 0.],\n",
       "         [0., 0.]],\n",
       "\n",
       "        [[0., 0.],\n",
       "         [0., 0.],\n",
       "         [0., 0.]],\n",
       "\n",
       "        [[0., 0.],\n",
       "         [0., 0.],\n",
       "         [0., 0.]],\n",
       "\n",
       "        [[0., 0.],\n",
       "         [0., 0.],\n",
       "         [0., 0.]]]])"
      ]
     },
     "execution_count": 56,
     "metadata": {},
     "output_type": "execute_result"
    }
   ],
   "source": [
    "np.zeros((3,4,3,2))"
   ]
  },
  {
   "cell_type": "code",
   "execution_count": 57,
   "id": "c478f7fc-07d6-4838-803b-2e663967964e",
   "metadata": {},
   "outputs": [
    {
     "data": {
      "text/plain": [
       "array([[1., 1., 1.],\n",
       "       [1., 1., 1.]])"
      ]
     },
     "execution_count": 57,
     "metadata": {},
     "output_type": "execute_result"
    }
   ],
   "source": [
    "np.ones((2,3))"
   ]
  },
  {
   "cell_type": "code",
   "execution_count": 58,
   "id": "3a033aa4-0107-494b-8770-29772ae80e6b",
   "metadata": {},
   "outputs": [],
   "source": [
    "on =np.ones((2,3,2))"
   ]
  },
  {
   "cell_type": "code",
   "execution_count": 59,
   "id": "2d25fde0-7025-4c9b-89db-2401bb9983f3",
   "metadata": {},
   "outputs": [
    {
     "data": {
      "text/plain": [
       "array([[[1., 1.],\n",
       "        [1., 1.],\n",
       "        [1., 1.]],\n",
       "\n",
       "       [[1., 1.],\n",
       "        [1., 1.],\n",
       "        [1., 1.]]])"
      ]
     },
     "execution_count": 59,
     "metadata": {},
     "output_type": "execute_result"
    }
   ],
   "source": [
    "on"
   ]
  },
  {
   "cell_type": "code",
   "execution_count": 60,
   "id": "1b7c894f-6dc4-4421-a885-20fa7a09a507",
   "metadata": {},
   "outputs": [
    {
     "data": {
      "text/plain": [
       "array([[[6., 6.],\n",
       "        [6., 6.],\n",
       "        [6., 6.]],\n",
       "\n",
       "       [[6., 6.],\n",
       "        [6., 6.],\n",
       "        [6., 6.]]])"
      ]
     },
     "execution_count": 60,
     "metadata": {},
     "output_type": "execute_result"
    }
   ],
   "source": [
    "on+5"
   ]
  },
  {
   "cell_type": "code",
   "execution_count": 61,
   "id": "4e24feaa-37cb-45c4-9e93-de37465eac8a",
   "metadata": {},
   "outputs": [
    {
     "data": {
      "text/plain": [
       "array([[0., 0., 0., 1., 1., 1.],\n",
       "       [2., 2., 2., 0., 1., 2.],\n",
       "       [0., 1., 2., 0., 1., 2.]])"
      ]
     },
     "execution_count": 61,
     "metadata": {},
     "output_type": "execute_result"
    }
   ],
   "source": [
    "np.empty((3,6))"
   ]
  },
  {
   "cell_type": "code",
   "execution_count": 62,
   "id": "a54c1028-d186-4089-900d-ac4cc69a61ce",
   "metadata": {},
   "outputs": [
    {
     "data": {
      "text/plain": [
       "array([[1., 0., 0., 0.],\n",
       "       [0., 1., 0., 0.],\n",
       "       [0., 0., 1., 0.],\n",
       "       [0., 0., 0., 1.]])"
      ]
     },
     "execution_count": 62,
     "metadata": {},
     "output_type": "execute_result"
    }
   ],
   "source": [
    "np.eye(4)"
   ]
  },
  {
   "cell_type": "code",
   "execution_count": 63,
   "id": "3e414ec7-c8a9-4261-bb76-677bae3f98eb",
   "metadata": {},
   "outputs": [
    {
     "data": {
      "text/plain": [
       "array([2.        , 2.10526316, 2.21052632, 2.31578947, 2.42105263,\n",
       "       2.52631579, 2.63157895, 2.73684211, 2.84210526, 2.94736842,\n",
       "       3.05263158, 3.15789474, 3.26315789, 3.36842105, 3.47368421,\n",
       "       3.57894737, 3.68421053, 3.78947368, 3.89473684, 4.        ])"
      ]
     },
     "execution_count": 63,
     "metadata": {},
     "output_type": "execute_result"
    }
   ],
   "source": [
    "np.linspace(2,4,20)"
   ]
  },
  {
   "cell_type": "code",
   "execution_count": 64,
   "id": "6fb24eb0-31ff-4ec6-8078-ef1b047f6b29",
   "metadata": {},
   "outputs": [
    {
     "data": {
      "text/plain": [
       "array([ 4.        ,  4.66611616,  5.44316   ,  6.34960421,  7.4069977 ,\n",
       "        8.64047791, 10.0793684 , 11.75787594, 13.71590373, 16.        ])"
      ]
     },
     "execution_count": 64,
     "metadata": {},
     "output_type": "execute_result"
    }
   ],
   "source": [
    "np.logspace(2,4,10, base=2)"
   ]
  },
  {
   "cell_type": "code",
   "execution_count": 65,
   "id": "463166be-36f0-4857-ab5f-148c015ed7b8",
   "metadata": {},
   "outputs": [],
   "source": [
    "arr=np.random.randn(3,4)"
   ]
  },
  {
   "cell_type": "code",
   "execution_count": 66,
   "id": "f8dd07fc-204d-43b0-bae4-2c135165b27b",
   "metadata": {},
   "outputs": [],
   "source": [
    "import pandas as pd"
   ]
  },
  {
   "cell_type": "code",
   "execution_count": 67,
   "id": "bfa44eeb-fdbd-4f8d-bc1d-f24926d4f7a0",
   "metadata": {},
   "outputs": [
    {
     "data": {
      "text/html": [
       "<div>\n",
       "<style scoped>\n",
       "    .dataframe tbody tr th:only-of-type {\n",
       "        vertical-align: middle;\n",
       "    }\n",
       "\n",
       "    .dataframe tbody tr th {\n",
       "        vertical-align: top;\n",
       "    }\n",
       "\n",
       "    .dataframe thead th {\n",
       "        text-align: right;\n",
       "    }\n",
       "</style>\n",
       "<table border=\"1\" class=\"dataframe\">\n",
       "  <thead>\n",
       "    <tr style=\"text-align: right;\">\n",
       "      <th></th>\n",
       "      <th>0</th>\n",
       "      <th>1</th>\n",
       "      <th>2</th>\n",
       "      <th>3</th>\n",
       "    </tr>\n",
       "  </thead>\n",
       "  <tbody>\n",
       "    <tr>\n",
       "      <th>0</th>\n",
       "      <td>-1.240546</td>\n",
       "      <td>0.125625</td>\n",
       "      <td>-0.465072</td>\n",
       "      <td>0.099560</td>\n",
       "    </tr>\n",
       "    <tr>\n",
       "      <th>1</th>\n",
       "      <td>-0.864840</td>\n",
       "      <td>0.807145</td>\n",
       "      <td>0.852200</td>\n",
       "      <td>0.079035</td>\n",
       "    </tr>\n",
       "    <tr>\n",
       "      <th>2</th>\n",
       "      <td>-1.555551</td>\n",
       "      <td>0.847637</td>\n",
       "      <td>-0.746530</td>\n",
       "      <td>0.081303</td>\n",
       "    </tr>\n",
       "  </tbody>\n",
       "</table>\n",
       "</div>"
      ],
      "text/plain": [
       "          0         1         2         3\n",
       "0 -1.240546  0.125625 -0.465072  0.099560\n",
       "1 -0.864840  0.807145  0.852200  0.079035\n",
       "2 -1.555551  0.847637 -0.746530  0.081303"
      ]
     },
     "execution_count": 67,
     "metadata": {},
     "output_type": "execute_result"
    }
   ],
   "source": [
    "pd.DataFrame(arr)"
   ]
  },
  {
   "cell_type": "code",
   "execution_count": 68,
   "id": "99ac0d4a-aa88-466f-a2b7-0c33bcd50ff6",
   "metadata": {},
   "outputs": [
    {
     "data": {
      "text/plain": [
       "array([[ 0.69752764,  0.98737605, -0.09448615, -0.14918488],\n",
       "       [ 0.40381927, -0.00463635,  0.47606191,  0.63888335],\n",
       "       [-1.26957073,  0.09024633, -1.20146402,  0.56667679]])"
      ]
     },
     "execution_count": 68,
     "metadata": {},
     "output_type": "execute_result"
    }
   ],
   "source": [
    "np.random.randn(3,4)"
   ]
  },
  {
   "cell_type": "code",
   "execution_count": 69,
   "id": "43acad60-5128-47a2-8047-aa362c931c58",
   "metadata": {},
   "outputs": [],
   "source": [
    "arr1=np.random.randint(1,110,(30,40))"
   ]
  },
  {
   "cell_type": "code",
   "execution_count": 70,
   "id": "41a589e5-86d9-4eaf-99e4-9e7008af6e54",
   "metadata": {},
   "outputs": [
    {
     "data": {
      "text/plain": [
       "array([[ 17,  67,  45, ...,  60,  48,  23],\n",
       "       [  1,  67, 103, ...,  20,  66,  63],\n",
       "       [ 14,  37,  62, ...,  10,  91,  54],\n",
       "       ...,\n",
       "       [ 83,  65,  40, ...,  96,  31, 103],\n",
       "       [ 42,  57,  28, ...,  59,  70,   5],\n",
       "       [ 99,  53, 108, ...,  47,  35, 102]])"
      ]
     },
     "execution_count": 70,
     "metadata": {},
     "output_type": "execute_result"
    }
   ],
   "source": [
    "arr1"
   ]
  },
  {
   "cell_type": "code",
   "execution_count": 71,
   "id": "69f9d5ee-f323-49cb-97c4-5c82a0292a34",
   "metadata": {},
   "outputs": [
    {
     "data": {
      "text/html": [
       "<div>\n",
       "<style scoped>\n",
       "    .dataframe tbody tr th:only-of-type {\n",
       "        vertical-align: middle;\n",
       "    }\n",
       "\n",
       "    .dataframe tbody tr th {\n",
       "        vertical-align: top;\n",
       "    }\n",
       "\n",
       "    .dataframe thead th {\n",
       "        text-align: right;\n",
       "    }\n",
       "</style>\n",
       "<table border=\"1\" class=\"dataframe\">\n",
       "  <thead>\n",
       "    <tr style=\"text-align: right;\">\n",
       "      <th></th>\n",
       "      <th>0</th>\n",
       "      <th>1</th>\n",
       "      <th>2</th>\n",
       "      <th>3</th>\n",
       "      <th>4</th>\n",
       "      <th>5</th>\n",
       "      <th>6</th>\n",
       "      <th>7</th>\n",
       "      <th>8</th>\n",
       "      <th>9</th>\n",
       "      <th>...</th>\n",
       "      <th>30</th>\n",
       "      <th>31</th>\n",
       "      <th>32</th>\n",
       "      <th>33</th>\n",
       "      <th>34</th>\n",
       "      <th>35</th>\n",
       "      <th>36</th>\n",
       "      <th>37</th>\n",
       "      <th>38</th>\n",
       "      <th>39</th>\n",
       "    </tr>\n",
       "  </thead>\n",
       "  <tbody>\n",
       "    <tr>\n",
       "      <th>0</th>\n",
       "      <td>17</td>\n",
       "      <td>67</td>\n",
       "      <td>45</td>\n",
       "      <td>69</td>\n",
       "      <td>104</td>\n",
       "      <td>59</td>\n",
       "      <td>10</td>\n",
       "      <td>67</td>\n",
       "      <td>66</td>\n",
       "      <td>71</td>\n",
       "      <td>...</td>\n",
       "      <td>107</td>\n",
       "      <td>68</td>\n",
       "      <td>78</td>\n",
       "      <td>13</td>\n",
       "      <td>97</td>\n",
       "      <td>16</td>\n",
       "      <td>54</td>\n",
       "      <td>60</td>\n",
       "      <td>48</td>\n",
       "      <td>23</td>\n",
       "    </tr>\n",
       "    <tr>\n",
       "      <th>1</th>\n",
       "      <td>1</td>\n",
       "      <td>67</td>\n",
       "      <td>103</td>\n",
       "      <td>33</td>\n",
       "      <td>12</td>\n",
       "      <td>39</td>\n",
       "      <td>62</td>\n",
       "      <td>3</td>\n",
       "      <td>63</td>\n",
       "      <td>38</td>\n",
       "      <td>...</td>\n",
       "      <td>35</td>\n",
       "      <td>108</td>\n",
       "      <td>55</td>\n",
       "      <td>63</td>\n",
       "      <td>32</td>\n",
       "      <td>16</td>\n",
       "      <td>95</td>\n",
       "      <td>20</td>\n",
       "      <td>66</td>\n",
       "      <td>63</td>\n",
       "    </tr>\n",
       "    <tr>\n",
       "      <th>2</th>\n",
       "      <td>14</td>\n",
       "      <td>37</td>\n",
       "      <td>62</td>\n",
       "      <td>29</td>\n",
       "      <td>64</td>\n",
       "      <td>57</td>\n",
       "      <td>26</td>\n",
       "      <td>79</td>\n",
       "      <td>36</td>\n",
       "      <td>106</td>\n",
       "      <td>...</td>\n",
       "      <td>29</td>\n",
       "      <td>84</td>\n",
       "      <td>21</td>\n",
       "      <td>88</td>\n",
       "      <td>55</td>\n",
       "      <td>57</td>\n",
       "      <td>31</td>\n",
       "      <td>10</td>\n",
       "      <td>91</td>\n",
       "      <td>54</td>\n",
       "    </tr>\n",
       "    <tr>\n",
       "      <th>3</th>\n",
       "      <td>85</td>\n",
       "      <td>32</td>\n",
       "      <td>29</td>\n",
       "      <td>11</td>\n",
       "      <td>88</td>\n",
       "      <td>82</td>\n",
       "      <td>7</td>\n",
       "      <td>21</td>\n",
       "      <td>14</td>\n",
       "      <td>32</td>\n",
       "      <td>...</td>\n",
       "      <td>44</td>\n",
       "      <td>4</td>\n",
       "      <td>83</td>\n",
       "      <td>34</td>\n",
       "      <td>45</td>\n",
       "      <td>98</td>\n",
       "      <td>83</td>\n",
       "      <td>46</td>\n",
       "      <td>59</td>\n",
       "      <td>97</td>\n",
       "    </tr>\n",
       "    <tr>\n",
       "      <th>4</th>\n",
       "      <td>29</td>\n",
       "      <td>42</td>\n",
       "      <td>86</td>\n",
       "      <td>62</td>\n",
       "      <td>96</td>\n",
       "      <td>80</td>\n",
       "      <td>48</td>\n",
       "      <td>13</td>\n",
       "      <td>103</td>\n",
       "      <td>62</td>\n",
       "      <td>...</td>\n",
       "      <td>83</td>\n",
       "      <td>9</td>\n",
       "      <td>29</td>\n",
       "      <td>69</td>\n",
       "      <td>26</td>\n",
       "      <td>106</td>\n",
       "      <td>98</td>\n",
       "      <td>25</td>\n",
       "      <td>29</td>\n",
       "      <td>83</td>\n",
       "    </tr>\n",
       "    <tr>\n",
       "      <th>5</th>\n",
       "      <td>76</td>\n",
       "      <td>106</td>\n",
       "      <td>77</td>\n",
       "      <td>31</td>\n",
       "      <td>17</td>\n",
       "      <td>43</td>\n",
       "      <td>51</td>\n",
       "      <td>100</td>\n",
       "      <td>9</td>\n",
       "      <td>34</td>\n",
       "      <td>...</td>\n",
       "      <td>34</td>\n",
       "      <td>30</td>\n",
       "      <td>43</td>\n",
       "      <td>81</td>\n",
       "      <td>24</td>\n",
       "      <td>90</td>\n",
       "      <td>13</td>\n",
       "      <td>2</td>\n",
       "      <td>109</td>\n",
       "      <td>75</td>\n",
       "    </tr>\n",
       "    <tr>\n",
       "      <th>6</th>\n",
       "      <td>20</td>\n",
       "      <td>32</td>\n",
       "      <td>34</td>\n",
       "      <td>37</td>\n",
       "      <td>29</td>\n",
       "      <td>100</td>\n",
       "      <td>104</td>\n",
       "      <td>94</td>\n",
       "      <td>30</td>\n",
       "      <td>103</td>\n",
       "      <td>...</td>\n",
       "      <td>8</td>\n",
       "      <td>94</td>\n",
       "      <td>15</td>\n",
       "      <td>44</td>\n",
       "      <td>40</td>\n",
       "      <td>44</td>\n",
       "      <td>33</td>\n",
       "      <td>25</td>\n",
       "      <td>102</td>\n",
       "      <td>94</td>\n",
       "    </tr>\n",
       "    <tr>\n",
       "      <th>7</th>\n",
       "      <td>83</td>\n",
       "      <td>82</td>\n",
       "      <td>77</td>\n",
       "      <td>41</td>\n",
       "      <td>57</td>\n",
       "      <td>15</td>\n",
       "      <td>41</td>\n",
       "      <td>73</td>\n",
       "      <td>104</td>\n",
       "      <td>84</td>\n",
       "      <td>...</td>\n",
       "      <td>4</td>\n",
       "      <td>82</td>\n",
       "      <td>44</td>\n",
       "      <td>71</td>\n",
       "      <td>105</td>\n",
       "      <td>103</td>\n",
       "      <td>90</td>\n",
       "      <td>43</td>\n",
       "      <td>90</td>\n",
       "      <td>79</td>\n",
       "    </tr>\n",
       "    <tr>\n",
       "      <th>8</th>\n",
       "      <td>47</td>\n",
       "      <td>62</td>\n",
       "      <td>90</td>\n",
       "      <td>37</td>\n",
       "      <td>83</td>\n",
       "      <td>72</td>\n",
       "      <td>77</td>\n",
       "      <td>25</td>\n",
       "      <td>72</td>\n",
       "      <td>69</td>\n",
       "      <td>...</td>\n",
       "      <td>90</td>\n",
       "      <td>108</td>\n",
       "      <td>87</td>\n",
       "      <td>107</td>\n",
       "      <td>81</td>\n",
       "      <td>26</td>\n",
       "      <td>37</td>\n",
       "      <td>35</td>\n",
       "      <td>106</td>\n",
       "      <td>49</td>\n",
       "    </tr>\n",
       "    <tr>\n",
       "      <th>9</th>\n",
       "      <td>45</td>\n",
       "      <td>73</td>\n",
       "      <td>100</td>\n",
       "      <td>86</td>\n",
       "      <td>79</td>\n",
       "      <td>53</td>\n",
       "      <td>20</td>\n",
       "      <td>76</td>\n",
       "      <td>77</td>\n",
       "      <td>34</td>\n",
       "      <td>...</td>\n",
       "      <td>24</td>\n",
       "      <td>87</td>\n",
       "      <td>80</td>\n",
       "      <td>102</td>\n",
       "      <td>13</td>\n",
       "      <td>8</td>\n",
       "      <td>108</td>\n",
       "      <td>107</td>\n",
       "      <td>66</td>\n",
       "      <td>6</td>\n",
       "    </tr>\n",
       "    <tr>\n",
       "      <th>10</th>\n",
       "      <td>26</td>\n",
       "      <td>3</td>\n",
       "      <td>31</td>\n",
       "      <td>95</td>\n",
       "      <td>16</td>\n",
       "      <td>62</td>\n",
       "      <td>79</td>\n",
       "      <td>67</td>\n",
       "      <td>23</td>\n",
       "      <td>91</td>\n",
       "      <td>...</td>\n",
       "      <td>61</td>\n",
       "      <td>72</td>\n",
       "      <td>90</td>\n",
       "      <td>25</td>\n",
       "      <td>76</td>\n",
       "      <td>76</td>\n",
       "      <td>93</td>\n",
       "      <td>10</td>\n",
       "      <td>26</td>\n",
       "      <td>64</td>\n",
       "    </tr>\n",
       "    <tr>\n",
       "      <th>11</th>\n",
       "      <td>28</td>\n",
       "      <td>83</td>\n",
       "      <td>81</td>\n",
       "      <td>3</td>\n",
       "      <td>80</td>\n",
       "      <td>62</td>\n",
       "      <td>29</td>\n",
       "      <td>52</td>\n",
       "      <td>9</td>\n",
       "      <td>106</td>\n",
       "      <td>...</td>\n",
       "      <td>64</td>\n",
       "      <td>42</td>\n",
       "      <td>7</td>\n",
       "      <td>24</td>\n",
       "      <td>107</td>\n",
       "      <td>2</td>\n",
       "      <td>41</td>\n",
       "      <td>61</td>\n",
       "      <td>54</td>\n",
       "      <td>15</td>\n",
       "    </tr>\n",
       "    <tr>\n",
       "      <th>12</th>\n",
       "      <td>75</td>\n",
       "      <td>29</td>\n",
       "      <td>45</td>\n",
       "      <td>71</td>\n",
       "      <td>79</td>\n",
       "      <td>9</td>\n",
       "      <td>1</td>\n",
       "      <td>55</td>\n",
       "      <td>82</td>\n",
       "      <td>20</td>\n",
       "      <td>...</td>\n",
       "      <td>25</td>\n",
       "      <td>96</td>\n",
       "      <td>53</td>\n",
       "      <td>84</td>\n",
       "      <td>88</td>\n",
       "      <td>98</td>\n",
       "      <td>90</td>\n",
       "      <td>48</td>\n",
       "      <td>57</td>\n",
       "      <td>71</td>\n",
       "    </tr>\n",
       "    <tr>\n",
       "      <th>13</th>\n",
       "      <td>80</td>\n",
       "      <td>1</td>\n",
       "      <td>21</td>\n",
       "      <td>79</td>\n",
       "      <td>36</td>\n",
       "      <td>98</td>\n",
       "      <td>55</td>\n",
       "      <td>56</td>\n",
       "      <td>77</td>\n",
       "      <td>36</td>\n",
       "      <td>...</td>\n",
       "      <td>101</td>\n",
       "      <td>100</td>\n",
       "      <td>44</td>\n",
       "      <td>18</td>\n",
       "      <td>36</td>\n",
       "      <td>107</td>\n",
       "      <td>109</td>\n",
       "      <td>76</td>\n",
       "      <td>102</td>\n",
       "      <td>17</td>\n",
       "    </tr>\n",
       "    <tr>\n",
       "      <th>14</th>\n",
       "      <td>4</td>\n",
       "      <td>2</td>\n",
       "      <td>13</td>\n",
       "      <td>102</td>\n",
       "      <td>87</td>\n",
       "      <td>85</td>\n",
       "      <td>21</td>\n",
       "      <td>83</td>\n",
       "      <td>89</td>\n",
       "      <td>34</td>\n",
       "      <td>...</td>\n",
       "      <td>90</td>\n",
       "      <td>27</td>\n",
       "      <td>45</td>\n",
       "      <td>46</td>\n",
       "      <td>7</td>\n",
       "      <td>18</td>\n",
       "      <td>62</td>\n",
       "      <td>91</td>\n",
       "      <td>80</td>\n",
       "      <td>76</td>\n",
       "    </tr>\n",
       "    <tr>\n",
       "      <th>15</th>\n",
       "      <td>96</td>\n",
       "      <td>55</td>\n",
       "      <td>1</td>\n",
       "      <td>79</td>\n",
       "      <td>30</td>\n",
       "      <td>75</td>\n",
       "      <td>49</td>\n",
       "      <td>70</td>\n",
       "      <td>71</td>\n",
       "      <td>101</td>\n",
       "      <td>...</td>\n",
       "      <td>5</td>\n",
       "      <td>33</td>\n",
       "      <td>4</td>\n",
       "      <td>76</td>\n",
       "      <td>107</td>\n",
       "      <td>103</td>\n",
       "      <td>107</td>\n",
       "      <td>72</td>\n",
       "      <td>101</td>\n",
       "      <td>70</td>\n",
       "    </tr>\n",
       "    <tr>\n",
       "      <th>16</th>\n",
       "      <td>102</td>\n",
       "      <td>51</td>\n",
       "      <td>65</td>\n",
       "      <td>85</td>\n",
       "      <td>7</td>\n",
       "      <td>97</td>\n",
       "      <td>62</td>\n",
       "      <td>14</td>\n",
       "      <td>43</td>\n",
       "      <td>30</td>\n",
       "      <td>...</td>\n",
       "      <td>90</td>\n",
       "      <td>24</td>\n",
       "      <td>5</td>\n",
       "      <td>52</td>\n",
       "      <td>13</td>\n",
       "      <td>32</td>\n",
       "      <td>77</td>\n",
       "      <td>69</td>\n",
       "      <td>44</td>\n",
       "      <td>18</td>\n",
       "    </tr>\n",
       "    <tr>\n",
       "      <th>17</th>\n",
       "      <td>85</td>\n",
       "      <td>8</td>\n",
       "      <td>12</td>\n",
       "      <td>28</td>\n",
       "      <td>50</td>\n",
       "      <td>92</td>\n",
       "      <td>60</td>\n",
       "      <td>17</td>\n",
       "      <td>69</td>\n",
       "      <td>32</td>\n",
       "      <td>...</td>\n",
       "      <td>53</td>\n",
       "      <td>101</td>\n",
       "      <td>41</td>\n",
       "      <td>73</td>\n",
       "      <td>109</td>\n",
       "      <td>32</td>\n",
       "      <td>36</td>\n",
       "      <td>94</td>\n",
       "      <td>94</td>\n",
       "      <td>90</td>\n",
       "    </tr>\n",
       "    <tr>\n",
       "      <th>18</th>\n",
       "      <td>25</td>\n",
       "      <td>12</td>\n",
       "      <td>52</td>\n",
       "      <td>97</td>\n",
       "      <td>51</td>\n",
       "      <td>86</td>\n",
       "      <td>81</td>\n",
       "      <td>75</td>\n",
       "      <td>40</td>\n",
       "      <td>73</td>\n",
       "      <td>...</td>\n",
       "      <td>56</td>\n",
       "      <td>20</td>\n",
       "      <td>7</td>\n",
       "      <td>79</td>\n",
       "      <td>99</td>\n",
       "      <td>4</td>\n",
       "      <td>69</td>\n",
       "      <td>70</td>\n",
       "      <td>79</td>\n",
       "      <td>44</td>\n",
       "    </tr>\n",
       "    <tr>\n",
       "      <th>19</th>\n",
       "      <td>18</td>\n",
       "      <td>64</td>\n",
       "      <td>12</td>\n",
       "      <td>86</td>\n",
       "      <td>70</td>\n",
       "      <td>99</td>\n",
       "      <td>28</td>\n",
       "      <td>79</td>\n",
       "      <td>49</td>\n",
       "      <td>42</td>\n",
       "      <td>...</td>\n",
       "      <td>63</td>\n",
       "      <td>26</td>\n",
       "      <td>14</td>\n",
       "      <td>19</td>\n",
       "      <td>13</td>\n",
       "      <td>41</td>\n",
       "      <td>97</td>\n",
       "      <td>19</td>\n",
       "      <td>40</td>\n",
       "      <td>60</td>\n",
       "    </tr>\n",
       "    <tr>\n",
       "      <th>20</th>\n",
       "      <td>82</td>\n",
       "      <td>28</td>\n",
       "      <td>23</td>\n",
       "      <td>32</td>\n",
       "      <td>44</td>\n",
       "      <td>56</td>\n",
       "      <td>100</td>\n",
       "      <td>74</td>\n",
       "      <td>19</td>\n",
       "      <td>74</td>\n",
       "      <td>...</td>\n",
       "      <td>98</td>\n",
       "      <td>44</td>\n",
       "      <td>39</td>\n",
       "      <td>2</td>\n",
       "      <td>57</td>\n",
       "      <td>108</td>\n",
       "      <td>15</td>\n",
       "      <td>7</td>\n",
       "      <td>37</td>\n",
       "      <td>89</td>\n",
       "    </tr>\n",
       "    <tr>\n",
       "      <th>21</th>\n",
       "      <td>50</td>\n",
       "      <td>66</td>\n",
       "      <td>72</td>\n",
       "      <td>94</td>\n",
       "      <td>66</td>\n",
       "      <td>102</td>\n",
       "      <td>66</td>\n",
       "      <td>23</td>\n",
       "      <td>103</td>\n",
       "      <td>9</td>\n",
       "      <td>...</td>\n",
       "      <td>17</td>\n",
       "      <td>81</td>\n",
       "      <td>34</td>\n",
       "      <td>40</td>\n",
       "      <td>2</td>\n",
       "      <td>75</td>\n",
       "      <td>82</td>\n",
       "      <td>108</td>\n",
       "      <td>57</td>\n",
       "      <td>108</td>\n",
       "    </tr>\n",
       "    <tr>\n",
       "      <th>22</th>\n",
       "      <td>47</td>\n",
       "      <td>18</td>\n",
       "      <td>99</td>\n",
       "      <td>6</td>\n",
       "      <td>20</td>\n",
       "      <td>34</td>\n",
       "      <td>54</td>\n",
       "      <td>31</td>\n",
       "      <td>9</td>\n",
       "      <td>80</td>\n",
       "      <td>...</td>\n",
       "      <td>31</td>\n",
       "      <td>48</td>\n",
       "      <td>89</td>\n",
       "      <td>68</td>\n",
       "      <td>19</td>\n",
       "      <td>77</td>\n",
       "      <td>34</td>\n",
       "      <td>23</td>\n",
       "      <td>63</td>\n",
       "      <td>107</td>\n",
       "    </tr>\n",
       "    <tr>\n",
       "      <th>23</th>\n",
       "      <td>9</td>\n",
       "      <td>73</td>\n",
       "      <td>2</td>\n",
       "      <td>105</td>\n",
       "      <td>49</td>\n",
       "      <td>16</td>\n",
       "      <td>6</td>\n",
       "      <td>58</td>\n",
       "      <td>27</td>\n",
       "      <td>10</td>\n",
       "      <td>...</td>\n",
       "      <td>95</td>\n",
       "      <td>56</td>\n",
       "      <td>3</td>\n",
       "      <td>3</td>\n",
       "      <td>34</td>\n",
       "      <td>101</td>\n",
       "      <td>39</td>\n",
       "      <td>39</td>\n",
       "      <td>74</td>\n",
       "      <td>69</td>\n",
       "    </tr>\n",
       "    <tr>\n",
       "      <th>24</th>\n",
       "      <td>109</td>\n",
       "      <td>76</td>\n",
       "      <td>3</td>\n",
       "      <td>78</td>\n",
       "      <td>89</td>\n",
       "      <td>50</td>\n",
       "      <td>12</td>\n",
       "      <td>12</td>\n",
       "      <td>40</td>\n",
       "      <td>108</td>\n",
       "      <td>...</td>\n",
       "      <td>32</td>\n",
       "      <td>55</td>\n",
       "      <td>6</td>\n",
       "      <td>41</td>\n",
       "      <td>20</td>\n",
       "      <td>70</td>\n",
       "      <td>66</td>\n",
       "      <td>68</td>\n",
       "      <td>4</td>\n",
       "      <td>22</td>\n",
       "    </tr>\n",
       "    <tr>\n",
       "      <th>25</th>\n",
       "      <td>78</td>\n",
       "      <td>7</td>\n",
       "      <td>62</td>\n",
       "      <td>47</td>\n",
       "      <td>63</td>\n",
       "      <td>98</td>\n",
       "      <td>85</td>\n",
       "      <td>82</td>\n",
       "      <td>33</td>\n",
       "      <td>43</td>\n",
       "      <td>...</td>\n",
       "      <td>24</td>\n",
       "      <td>6</td>\n",
       "      <td>85</td>\n",
       "      <td>81</td>\n",
       "      <td>66</td>\n",
       "      <td>48</td>\n",
       "      <td>56</td>\n",
       "      <td>100</td>\n",
       "      <td>108</td>\n",
       "      <td>87</td>\n",
       "    </tr>\n",
       "    <tr>\n",
       "      <th>26</th>\n",
       "      <td>87</td>\n",
       "      <td>14</td>\n",
       "      <td>77</td>\n",
       "      <td>59</td>\n",
       "      <td>16</td>\n",
       "      <td>37</td>\n",
       "      <td>1</td>\n",
       "      <td>31</td>\n",
       "      <td>71</td>\n",
       "      <td>50</td>\n",
       "      <td>...</td>\n",
       "      <td>108</td>\n",
       "      <td>97</td>\n",
       "      <td>90</td>\n",
       "      <td>30</td>\n",
       "      <td>109</td>\n",
       "      <td>23</td>\n",
       "      <td>29</td>\n",
       "      <td>77</td>\n",
       "      <td>93</td>\n",
       "      <td>81</td>\n",
       "    </tr>\n",
       "    <tr>\n",
       "      <th>27</th>\n",
       "      <td>83</td>\n",
       "      <td>65</td>\n",
       "      <td>40</td>\n",
       "      <td>24</td>\n",
       "      <td>77</td>\n",
       "      <td>15</td>\n",
       "      <td>55</td>\n",
       "      <td>106</td>\n",
       "      <td>100</td>\n",
       "      <td>50</td>\n",
       "      <td>...</td>\n",
       "      <td>27</td>\n",
       "      <td>60</td>\n",
       "      <td>28</td>\n",
       "      <td>58</td>\n",
       "      <td>94</td>\n",
       "      <td>5</td>\n",
       "      <td>42</td>\n",
       "      <td>96</td>\n",
       "      <td>31</td>\n",
       "      <td>103</td>\n",
       "    </tr>\n",
       "    <tr>\n",
       "      <th>28</th>\n",
       "      <td>42</td>\n",
       "      <td>57</td>\n",
       "      <td>28</td>\n",
       "      <td>70</td>\n",
       "      <td>23</td>\n",
       "      <td>93</td>\n",
       "      <td>22</td>\n",
       "      <td>89</td>\n",
       "      <td>12</td>\n",
       "      <td>2</td>\n",
       "      <td>...</td>\n",
       "      <td>15</td>\n",
       "      <td>95</td>\n",
       "      <td>21</td>\n",
       "      <td>24</td>\n",
       "      <td>22</td>\n",
       "      <td>9</td>\n",
       "      <td>70</td>\n",
       "      <td>59</td>\n",
       "      <td>70</td>\n",
       "      <td>5</td>\n",
       "    </tr>\n",
       "    <tr>\n",
       "      <th>29</th>\n",
       "      <td>99</td>\n",
       "      <td>53</td>\n",
       "      <td>108</td>\n",
       "      <td>5</td>\n",
       "      <td>83</td>\n",
       "      <td>14</td>\n",
       "      <td>7</td>\n",
       "      <td>29</td>\n",
       "      <td>56</td>\n",
       "      <td>13</td>\n",
       "      <td>...</td>\n",
       "      <td>4</td>\n",
       "      <td>58</td>\n",
       "      <td>45</td>\n",
       "      <td>77</td>\n",
       "      <td>88</td>\n",
       "      <td>70</td>\n",
       "      <td>16</td>\n",
       "      <td>47</td>\n",
       "      <td>35</td>\n",
       "      <td>102</td>\n",
       "    </tr>\n",
       "  </tbody>\n",
       "</table>\n",
       "<p>30 rows × 40 columns</p>\n",
       "</div>"
      ],
      "text/plain": [
       "     0    1    2    3    4    5    6    7    8    9   ...   30   31  32   33  \\\n",
       "0    17   67   45   69  104   59   10   67   66   71  ...  107   68  78   13   \n",
       "1     1   67  103   33   12   39   62    3   63   38  ...   35  108  55   63   \n",
       "2    14   37   62   29   64   57   26   79   36  106  ...   29   84  21   88   \n",
       "3    85   32   29   11   88   82    7   21   14   32  ...   44    4  83   34   \n",
       "4    29   42   86   62   96   80   48   13  103   62  ...   83    9  29   69   \n",
       "5    76  106   77   31   17   43   51  100    9   34  ...   34   30  43   81   \n",
       "6    20   32   34   37   29  100  104   94   30  103  ...    8   94  15   44   \n",
       "7    83   82   77   41   57   15   41   73  104   84  ...    4   82  44   71   \n",
       "8    47   62   90   37   83   72   77   25   72   69  ...   90  108  87  107   \n",
       "9    45   73  100   86   79   53   20   76   77   34  ...   24   87  80  102   \n",
       "10   26    3   31   95   16   62   79   67   23   91  ...   61   72  90   25   \n",
       "11   28   83   81    3   80   62   29   52    9  106  ...   64   42   7   24   \n",
       "12   75   29   45   71   79    9    1   55   82   20  ...   25   96  53   84   \n",
       "13   80    1   21   79   36   98   55   56   77   36  ...  101  100  44   18   \n",
       "14    4    2   13  102   87   85   21   83   89   34  ...   90   27  45   46   \n",
       "15   96   55    1   79   30   75   49   70   71  101  ...    5   33   4   76   \n",
       "16  102   51   65   85    7   97   62   14   43   30  ...   90   24   5   52   \n",
       "17   85    8   12   28   50   92   60   17   69   32  ...   53  101  41   73   \n",
       "18   25   12   52   97   51   86   81   75   40   73  ...   56   20   7   79   \n",
       "19   18   64   12   86   70   99   28   79   49   42  ...   63   26  14   19   \n",
       "20   82   28   23   32   44   56  100   74   19   74  ...   98   44  39    2   \n",
       "21   50   66   72   94   66  102   66   23  103    9  ...   17   81  34   40   \n",
       "22   47   18   99    6   20   34   54   31    9   80  ...   31   48  89   68   \n",
       "23    9   73    2  105   49   16    6   58   27   10  ...   95   56   3    3   \n",
       "24  109   76    3   78   89   50   12   12   40  108  ...   32   55   6   41   \n",
       "25   78    7   62   47   63   98   85   82   33   43  ...   24    6  85   81   \n",
       "26   87   14   77   59   16   37    1   31   71   50  ...  108   97  90   30   \n",
       "27   83   65   40   24   77   15   55  106  100   50  ...   27   60  28   58   \n",
       "28   42   57   28   70   23   93   22   89   12    2  ...   15   95  21   24   \n",
       "29   99   53  108    5   83   14    7   29   56   13  ...    4   58  45   77   \n",
       "\n",
       "     34   35   36   37   38   39  \n",
       "0    97   16   54   60   48   23  \n",
       "1    32   16   95   20   66   63  \n",
       "2    55   57   31   10   91   54  \n",
       "3    45   98   83   46   59   97  \n",
       "4    26  106   98   25   29   83  \n",
       "5    24   90   13    2  109   75  \n",
       "6    40   44   33   25  102   94  \n",
       "7   105  103   90   43   90   79  \n",
       "8    81   26   37   35  106   49  \n",
       "9    13    8  108  107   66    6  \n",
       "10   76   76   93   10   26   64  \n",
       "11  107    2   41   61   54   15  \n",
       "12   88   98   90   48   57   71  \n",
       "13   36  107  109   76  102   17  \n",
       "14    7   18   62   91   80   76  \n",
       "15  107  103  107   72  101   70  \n",
       "16   13   32   77   69   44   18  \n",
       "17  109   32   36   94   94   90  \n",
       "18   99    4   69   70   79   44  \n",
       "19   13   41   97   19   40   60  \n",
       "20   57  108   15    7   37   89  \n",
       "21    2   75   82  108   57  108  \n",
       "22   19   77   34   23   63  107  \n",
       "23   34  101   39   39   74   69  \n",
       "24   20   70   66   68    4   22  \n",
       "25   66   48   56  100  108   87  \n",
       "26  109   23   29   77   93   81  \n",
       "27   94    5   42   96   31  103  \n",
       "28   22    9   70   59   70    5  \n",
       "29   88   70   16   47   35  102  \n",
       "\n",
       "[30 rows x 40 columns]"
      ]
     },
     "execution_count": 71,
     "metadata": {},
     "output_type": "execute_result"
    }
   ],
   "source": [
    "pd.DataFrame(arr1)"
   ]
  },
  {
   "cell_type": "code",
   "execution_count": 72,
   "id": "b3da7970-571c-44aa-a3fd-2b301f916782",
   "metadata": {},
   "outputs": [],
   "source": [
    "pd.DataFrame(arr1).to_csv('test.csv')"
   ]
  },
  {
   "cell_type": "code",
   "execution_count": 73,
   "id": "7b61d3c4-4522-4796-9d67-93813181343f",
   "metadata": {},
   "outputs": [],
   "source": [
    "arr=np.random.rand(3,4)"
   ]
  },
  {
   "cell_type": "code",
   "execution_count": 74,
   "id": "73ad21bc-2894-4bbe-bc1e-0cbc7ed6011f",
   "metadata": {},
   "outputs": [
    {
     "data": {
      "text/plain": [
       "array([[0.28383121, 0.04963134, 0.25319725, 0.90310128],\n",
       "       [0.98361303, 0.44872222, 0.86288818, 0.12981357],\n",
       "       [0.8095114 , 0.28475779, 0.70321215, 0.71943936]])"
      ]
     },
     "execution_count": 74,
     "metadata": {},
     "output_type": "execute_result"
    }
   ],
   "source": [
    "arr"
   ]
  },
  {
   "cell_type": "code",
   "execution_count": 75,
   "id": "793fcdb0-4378-4f4a-b026-65f3634a973e",
   "metadata": {},
   "outputs": [],
   "source": [
    "arr2=arr.reshape(6,2)"
   ]
  },
  {
   "cell_type": "code",
   "execution_count": 76,
   "id": "565c1ddd-7625-4544-b850-37d66d50a3b1",
   "metadata": {},
   "outputs": [
    {
     "data": {
      "text/plain": [
       "array([[0.28383121, 0.04963134],\n",
       "       [0.25319725, 0.90310128],\n",
       "       [0.98361303, 0.44872222],\n",
       "       [0.86288818, 0.12981357],\n",
       "       [0.8095114 , 0.28475779],\n",
       "       [0.70321215, 0.71943936]])"
      ]
     },
     "execution_count": 76,
     "metadata": {},
     "output_type": "execute_result"
    }
   ],
   "source": [
    "arr2"
   ]
  },
  {
   "cell_type": "code",
   "execution_count": 77,
   "id": "772a9ed1-45ba-4da1-91f7-d3862b4a2fa9",
   "metadata": {},
   "outputs": [
    {
     "data": {
      "text/plain": [
       "array([0.25319725, 0.90310128])"
      ]
     },
     "execution_count": 77,
     "metadata": {},
     "output_type": "execute_result"
    }
   ],
   "source": [
    "arr2[1]"
   ]
  },
  {
   "cell_type": "code",
   "execution_count": 78,
   "id": "5aebc3b2-1e80-46c4-a7b2-60d873447c86",
   "metadata": {},
   "outputs": [
    {
     "data": {
      "text/plain": [
       "0.9031012796361163"
      ]
     },
     "execution_count": 78,
     "metadata": {},
     "output_type": "execute_result"
    }
   ],
   "source": [
    "arr2[1][1]"
   ]
  },
  {
   "cell_type": "code",
   "execution_count": 79,
   "id": "de8f1290-4ce5-4ef8-9330-0fe87cb37e18",
   "metadata": {},
   "outputs": [
    {
     "data": {
      "text/plain": [
       "array([0.98361303, 0.86288818, 0.8095114 ])"
      ]
     },
     "execution_count": 79,
     "metadata": {},
     "output_type": "execute_result"
    }
   ],
   "source": [
    "arr2[2:5,0]"
   ]
  },
  {
   "cell_type": "code",
   "execution_count": 80,
   "id": "d4a5c576-a4f3-4138-9102-e0274efc9edf",
   "metadata": {},
   "outputs": [
    {
     "data": {
      "text/plain": [
       "array([0.44872222, 0.12981357, 0.28475779])"
      ]
     },
     "execution_count": 80,
     "metadata": {},
     "output_type": "execute_result"
    }
   ],
   "source": [
    "arr2[2:5,1]"
   ]
  },
  {
   "cell_type": "code",
   "execution_count": 85,
   "id": "5b693470-ee1a-487d-a3d6-b81ae81ca08f",
   "metadata": {},
   "outputs": [],
   "source": [
    "arr=np.random.randint(1,100,(5,5))"
   ]
  },
  {
   "cell_type": "code",
   "execution_count": 86,
   "id": "6825f0e8-2cc9-4892-ae8b-6a9fd54077dc",
   "metadata": {},
   "outputs": [
    {
     "data": {
      "text/plain": [
       "array([[75, 18, 26, 86, 10],\n",
       "       [51, 62, 92, 31, 67],\n",
       "       [43, 47, 38, 69, 12],\n",
       "       [43, 55, 71, 36, 21],\n",
       "       [36, 32, 46, 92, 80]])"
      ]
     },
     "execution_count": 86,
     "metadata": {},
     "output_type": "execute_result"
    }
   ],
   "source": [
    "arr"
   ]
  },
  {
   "cell_type": "code",
   "execution_count": 87,
   "id": "1721ae57-11f6-45eb-9d2a-9cc2b6b7089b",
   "metadata": {},
   "outputs": [
    {
     "data": {
      "text/plain": [
       "array([[ True, False, False,  True, False],\n",
       "       [ True,  True,  True, False,  True],\n",
       "       [False, False, False,  True, False],\n",
       "       [False,  True,  True, False, False],\n",
       "       [False, False, False,  True,  True]])"
      ]
     },
     "execution_count": 87,
     "metadata": {},
     "output_type": "execute_result"
    }
   ],
   "source": [
    "arr>50"
   ]
  },
  {
   "cell_type": "code",
   "execution_count": 88,
   "id": "ab9e3ee2-b4cc-4ebc-988a-f6957bd4913c",
   "metadata": {},
   "outputs": [
    {
     "data": {
      "text/plain": [
       "array([75, 86, 51, 62, 92, 67, 69, 55, 71, 92, 80])"
      ]
     },
     "execution_count": 88,
     "metadata": {},
     "output_type": "execute_result"
    }
   ],
   "source": [
    "arr[arr>50]"
   ]
  },
  {
   "cell_type": "code",
   "execution_count": 89,
   "id": "ca336ac1-a2ca-4c32-91f8-f4295199dfc2",
   "metadata": {},
   "outputs": [
    {
     "data": {
      "text/plain": [
       "array([[75, 18, 26, 86, 10],\n",
       "       [51, 62, 92, 31, 67],\n",
       "       [43, 47, 38, 69, 12],\n",
       "       [43, 55, 71, 36, 21],\n",
       "       [36, 32, 46, 92, 80]])"
      ]
     },
     "execution_count": 89,
     "metadata": {},
     "output_type": "execute_result"
    }
   ],
   "source": [
    "arr"
   ]
  },
  {
   "cell_type": "code",
   "execution_count": 90,
   "id": "90ffdee9-0662-47b2-934c-71bf81f64c83",
   "metadata": {},
   "outputs": [
    {
     "data": {
      "text/plain": [
       "array([[47, 38],\n",
       "       [55, 71]])"
      ]
     },
     "execution_count": 90,
     "metadata": {},
     "output_type": "execute_result"
    }
   ],
   "source": [
    "arr[2:4,[1,2]]"
   ]
  },
  {
   "cell_type": "code",
   "execution_count": 91,
   "id": "10f03f22-a500-475a-9ac6-9fad75fe1822",
   "metadata": {},
   "outputs": [
    {
     "data": {
      "text/plain": [
       "75"
      ]
     },
     "execution_count": 91,
     "metadata": {},
     "output_type": "execute_result"
    }
   ],
   "source": [
    "arr[0][0]"
   ]
  },
  {
   "cell_type": "code",
   "execution_count": 92,
   "id": "93dd6a26-3c62-43fd-8b39-6f569cbcc918",
   "metadata": {},
   "outputs": [],
   "source": [
    "arr[0][0]=500"
   ]
  },
  {
   "cell_type": "code",
   "execution_count": 93,
   "id": "9dfff4f5-64ab-4849-a7d5-3f0ec6cf7f07",
   "metadata": {},
   "outputs": [
    {
     "data": {
      "text/plain": [
       "array([[500,  18,  26,  86,  10],\n",
       "       [ 51,  62,  92,  31,  67],\n",
       "       [ 43,  47,  38,  69,  12],\n",
       "       [ 43,  55,  71,  36,  21],\n",
       "       [ 36,  32,  46,  92,  80]])"
      ]
     },
     "execution_count": 93,
     "metadata": {},
     "output_type": "execute_result"
    }
   ],
   "source": [
    "arr"
   ]
  },
  {
   "cell_type": "code",
   "execution_count": 94,
   "id": "8004b358-c794-4d5c-8a97-fe76d425e173",
   "metadata": {},
   "outputs": [],
   "source": [
    "arr1=np.random.randint(1,3,(3,3))\n",
    "arr2=np.random.randint(1,3,(3,3))"
   ]
  },
  {
   "cell_type": "code",
   "execution_count": 95,
   "id": "9f6a6bd8-b2dc-49ac-a443-786ee638c32d",
   "metadata": {},
   "outputs": [
    {
     "data": {
      "text/plain": [
       "array([[1, 2, 2],\n",
       "       [1, 2, 2],\n",
       "       [2, 1, 2]])"
      ]
     },
     "execution_count": 95,
     "metadata": {},
     "output_type": "execute_result"
    }
   ],
   "source": [
    "arr1"
   ]
  },
  {
   "cell_type": "code",
   "execution_count": 96,
   "id": "89d14634-91cd-461d-8a62-4c4d1e5de09e",
   "metadata": {},
   "outputs": [
    {
     "data": {
      "text/plain": [
       "array([[2, 1, 1],\n",
       "       [2, 2, 2],\n",
       "       [1, 2, 2]])"
      ]
     },
     "execution_count": 96,
     "metadata": {},
     "output_type": "execute_result"
    }
   ],
   "source": [
    "arr2"
   ]
  },
  {
   "cell_type": "code",
   "execution_count": 97,
   "id": "95e499ce-2350-469c-b457-d66cc36ab6b8",
   "metadata": {},
   "outputs": [
    {
     "data": {
      "text/plain": [
       "array([[3, 3, 3],\n",
       "       [3, 4, 4],\n",
       "       [3, 3, 4]])"
      ]
     },
     "execution_count": 97,
     "metadata": {},
     "output_type": "execute_result"
    }
   ],
   "source": [
    "arr1+arr2"
   ]
  },
  {
   "cell_type": "code",
   "execution_count": 98,
   "id": "2f44c058-6c1c-46bb-8286-5411ee841396",
   "metadata": {},
   "outputs": [
    {
     "data": {
      "text/plain": [
       "array([[2, 2, 2],\n",
       "       [2, 4, 4],\n",
       "       [2, 2, 4]])"
      ]
     },
     "execution_count": 98,
     "metadata": {},
     "output_type": "execute_result"
    }
   ],
   "source": [
    "arr1*arr2"
   ]
  },
  {
   "cell_type": "code",
   "execution_count": 99,
   "id": "4beb5faa-4b92-4148-b94b-9ddb3946d2a1",
   "metadata": {},
   "outputs": [
    {
     "data": {
      "text/plain": [
       "array([[0.5, 2. , 2. ],\n",
       "       [0.5, 1. , 1. ],\n",
       "       [2. , 0.5, 1. ]])"
      ]
     },
     "execution_count": 99,
     "metadata": {},
     "output_type": "execute_result"
    }
   ],
   "source": [
    "arr1/arr2"
   ]
  },
  {
   "cell_type": "code",
   "execution_count": 100,
   "id": "8e9a7f90-78f6-4faf-b36b-86ac2add54b1",
   "metadata": {},
   "outputs": [
    {
     "data": {
      "text/plain": [
       "array([[8, 9, 9],\n",
       "       [8, 9, 9],\n",
       "       [8, 8, 8]])"
      ]
     },
     "execution_count": 100,
     "metadata": {},
     "output_type": "execute_result"
    }
   ],
   "source": [
    "arr1@arr2"
   ]
  },
  {
   "cell_type": "code",
   "execution_count": 101,
   "id": "ebce6e03-d69d-45ca-804a-7efbc38bbff2",
   "metadata": {},
   "outputs": [
    {
     "name": "stderr",
     "output_type": "stream",
     "text": [
      "/tmp/ipykernel_84/1510032488.py:1: RuntimeWarning: divide by zero encountered in divide\n",
      "  arr1/0\n"
     ]
    },
    {
     "data": {
      "text/plain": [
       "array([[inf, inf, inf],\n",
       "       [inf, inf, inf],\n",
       "       [inf, inf, inf]])"
      ]
     },
     "execution_count": 101,
     "metadata": {},
     "output_type": "execute_result"
    }
   ],
   "source": [
    "arr1/0"
   ]
  },
  {
   "cell_type": "code",
   "execution_count": 102,
   "id": "9022aa32-a265-4f0d-b012-6e4b226ce5d5",
   "metadata": {},
   "outputs": [
    {
     "data": {
      "text/plain": [
       "array([[101, 102, 102],\n",
       "       [101, 102, 102],\n",
       "       [102, 101, 102]])"
      ]
     },
     "execution_count": 102,
     "metadata": {},
     "output_type": "execute_result"
    }
   ],
   "source": [
    "arr1+100"
   ]
  },
  {
   "cell_type": "code",
   "execution_count": 103,
   "id": "5bf1008e-de71-4ef1-b9bc-fb3674cb1ef0",
   "metadata": {},
   "outputs": [
    {
     "data": {
      "text/plain": [
       "array([[1, 4, 4],\n",
       "       [1, 4, 4],\n",
       "       [4, 1, 4]])"
      ]
     },
     "execution_count": 103,
     "metadata": {},
     "output_type": "execute_result"
    }
   ],
   "source": [
    "arr1**2"
   ]
  },
  {
   "cell_type": "code",
   "execution_count": 104,
   "id": "3d00c760-1380-4654-affe-117a8a299621",
   "metadata": {},
   "outputs": [],
   "source": [
    "#Broadcostig"
   ]
  },
  {
   "cell_type": "code",
   "execution_count": 105,
   "id": "a6da708e-7bc8-4cf3-bb63-be5a7025f862",
   "metadata": {},
   "outputs": [],
   "source": [
    "arr=np.zeros((4,4))"
   ]
  },
  {
   "cell_type": "code",
   "execution_count": 106,
   "id": "de2fb56c-5342-43ed-bf74-4c965eb2a376",
   "metadata": {},
   "outputs": [
    {
     "data": {
      "text/plain": [
       "array([[0., 0., 0., 0.],\n",
       "       [0., 0., 0., 0.],\n",
       "       [0., 0., 0., 0.],\n",
       "       [0., 0., 0., 0.]])"
      ]
     },
     "execution_count": 106,
     "metadata": {},
     "output_type": "execute_result"
    }
   ],
   "source": [
    "arr"
   ]
  },
  {
   "cell_type": "code",
   "execution_count": 107,
   "id": "a500609b-4e74-4aab-b483-c976de95c807",
   "metadata": {},
   "outputs": [],
   "source": [
    "row=np.array([1,2,3,4])"
   ]
  },
  {
   "cell_type": "code",
   "execution_count": 108,
   "id": "d786ecf8-9272-4a77-9dda-eacb90afdcee",
   "metadata": {},
   "outputs": [
    {
     "data": {
      "text/plain": [
       "array([1, 2, 3, 4])"
      ]
     },
     "execution_count": 108,
     "metadata": {},
     "output_type": "execute_result"
    }
   ],
   "source": [
    "row"
   ]
  },
  {
   "cell_type": "code",
   "execution_count": 109,
   "id": "00a6170f-36f6-4d48-acc7-874aa123e083",
   "metadata": {},
   "outputs": [
    {
     "data": {
      "text/plain": [
       "array([[1., 2., 3., 4.],\n",
       "       [1., 2., 3., 4.],\n",
       "       [1., 2., 3., 4.],\n",
       "       [1., 2., 3., 4.]])"
      ]
     },
     "execution_count": 109,
     "metadata": {},
     "output_type": "execute_result"
    }
   ],
   "source": [
    "arr+row"
   ]
  },
  {
   "cell_type": "code",
   "execution_count": 110,
   "id": "b3c275ac-6fb0-4c7b-93dc-283914827229",
   "metadata": {},
   "outputs": [
    {
     "data": {
      "text/plain": [
       "array([1, 2, 3, 4])"
      ]
     },
     "execution_count": 110,
     "metadata": {},
     "output_type": "execute_result"
    }
   ],
   "source": [
    "row.T"
   ]
  },
  {
   "cell_type": "code",
   "execution_count": 114,
   "id": "6aba4de6-9ce5-4ebb-8fcd-7992f9ad73e7",
   "metadata": {},
   "outputs": [],
   "source": [
    "col=np.array([[1,2,3,4]])"
   ]
  },
  {
   "cell_type": "code",
   "execution_count": 115,
   "id": "f7523c0f-2be1-4227-a646-c5445b4726ca",
   "metadata": {},
   "outputs": [
    {
     "data": {
      "text/plain": [
       "array([[1, 2, 3, 4]])"
      ]
     },
     "execution_count": 115,
     "metadata": {},
     "output_type": "execute_result"
    }
   ],
   "source": [
    "col"
   ]
  },
  {
   "cell_type": "code",
   "execution_count": 118,
   "id": "0f500f45-a057-4b21-ba51-d78479332cd1",
   "metadata": {},
   "outputs": [
    {
     "data": {
      "text/plain": [
       "array([[1],\n",
       "       [2],\n",
       "       [3],\n",
       "       [4]])"
      ]
     },
     "execution_count": 118,
     "metadata": {},
     "output_type": "execute_result"
    }
   ],
   "source": [
    "col.T"
   ]
  },
  {
   "cell_type": "code",
   "execution_count": 119,
   "id": "455d62d2-e23d-4885-8965-298333bc56be",
   "metadata": {},
   "outputs": [
    {
     "data": {
      "text/plain": [
       "array([[1., 1., 1., 1.],\n",
       "       [2., 2., 2., 2.],\n",
       "       [3., 3., 3., 3.],\n",
       "       [4., 4., 4., 4.]])"
      ]
     },
     "execution_count": 119,
     "metadata": {},
     "output_type": "execute_result"
    }
   ],
   "source": [
    "col.T+arr"
   ]
  },
  {
   "cell_type": "code",
   "execution_count": 120,
   "id": "7c0f010b-3ac7-4a0b-9a0d-f8b7b7c36c91",
   "metadata": {},
   "outputs": [
    {
     "data": {
      "text/plain": [
       "array([[0., 0., 0., 0.],\n",
       "       [0., 0., 0., 0.],\n",
       "       [0., 0., 0., 0.],\n",
       "       [0., 0., 0., 0.]])"
      ]
     },
     "execution_count": 120,
     "metadata": {},
     "output_type": "execute_result"
    }
   ],
   "source": [
    "arr"
   ]
  },
  {
   "cell_type": "code",
   "execution_count": 122,
   "id": "0cf4bfc9-e61a-4d9b-b18e-3ae3cbae37ec",
   "metadata": {},
   "outputs": [],
   "source": [
    "arr1=np.random.randint(1,4,(3,4))"
   ]
  },
  {
   "cell_type": "code",
   "execution_count": 123,
   "id": "d0323719-10cc-4189-b518-5a1ce343062e",
   "metadata": {},
   "outputs": [
    {
     "data": {
      "text/plain": [
       "array([[3, 1, 1, 2],\n",
       "       [3, 2, 2, 1],\n",
       "       [2, 3, 3, 1]])"
      ]
     },
     "execution_count": 123,
     "metadata": {},
     "output_type": "execute_result"
    }
   ],
   "source": [
    "arr1"
   ]
  },
  {
   "cell_type": "code",
   "execution_count": 124,
   "id": "6266247d-b19c-4339-8db2-0a3eb367699b",
   "metadata": {},
   "outputs": [
    {
     "data": {
      "text/plain": [
       "array([[1.73205081, 1.        , 1.        , 1.41421356],\n",
       "       [1.73205081, 1.41421356, 1.41421356, 1.        ],\n",
       "       [1.41421356, 1.73205081, 1.73205081, 1.        ]])"
      ]
     },
     "execution_count": 124,
     "metadata": {},
     "output_type": "execute_result"
    }
   ],
   "source": [
    "np.sqrt(arr1)"
   ]
  },
  {
   "cell_type": "code",
   "execution_count": 125,
   "id": "0ca0c1c4-11b4-4be4-8c9c-dab3c29770aa",
   "metadata": {},
   "outputs": [
    {
     "data": {
      "text/plain": [
       "array([[20.08553692,  2.71828183,  2.71828183,  7.3890561 ],\n",
       "       [20.08553692,  7.3890561 ,  7.3890561 ,  2.71828183],\n",
       "       [ 7.3890561 , 20.08553692, 20.08553692,  2.71828183]])"
      ]
     },
     "execution_count": 125,
     "metadata": {},
     "output_type": "execute_result"
    }
   ],
   "source": [
    "np.exp(arr1)"
   ]
  },
  {
   "cell_type": "code",
   "execution_count": 126,
   "id": "31322457-15a2-4cb2-811e-5e1e2287e1ab",
   "metadata": {},
   "outputs": [
    {
     "data": {
      "text/plain": [
       "array([[0.47712125, 0.        , 0.        , 0.30103   ],\n",
       "       [0.47712125, 0.30103   , 0.30103   , 0.        ],\n",
       "       [0.30103   , 0.47712125, 0.47712125, 0.        ]])"
      ]
     },
     "execution_count": 126,
     "metadata": {},
     "output_type": "execute_result"
    }
   ],
   "source": [
    "np.log10(arr1)"
   ]
  },
  {
   "cell_type": "code",
   "execution_count": null,
   "id": "c2bc90f7-44c3-4d8c-b5f3-c9d1d0e0da1f",
   "metadata": {},
   "outputs": [],
   "source": []
  }
 ],
 "metadata": {
  "kernelspec": {
   "display_name": "Python 3 (ipykernel)",
   "language": "python",
   "name": "python3"
  },
  "language_info": {
   "codemirror_mode": {
    "name": "ipython",
    "version": 3
   },
   "file_extension": ".py",
   "mimetype": "text/x-python",
   "name": "python",
   "nbconvert_exporter": "python",
   "pygments_lexer": "ipython3",
   "version": "3.10.8"
  }
 },
 "nbformat": 4,
 "nbformat_minor": 5
}
